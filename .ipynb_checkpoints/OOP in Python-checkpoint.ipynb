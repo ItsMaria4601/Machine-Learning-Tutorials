{
 "cells": [
  {
   "cell_type": "markdown",
   "id": "f8cf438d",
   "metadata": {},
   "source": [
    "#  OOP"
   ]
  },
  {
   "cell_type": "code",
   "execution_count": 2,
   "id": "b8e5fa38",
   "metadata": {},
   "outputs": [],
   "source": [
    "class Car:\n",
    "    pass  # for creating an empty class"
   ]
  },
  {
   "cell_type": "code",
   "execution_count": 3,
   "id": "ac29dcc4",
   "metadata": {},
   "outputs": [],
   "source": [
    "car1 = Car()"
   ]
  },
  {
   "cell_type": "code",
   "execution_count": 4,
   "id": "1e525ad7",
   "metadata": {},
   "outputs": [
    {
     "data": {
      "text/plain": [
       "<__main__.Car at 0x1f49ca658b0>"
      ]
     },
     "execution_count": 4,
     "metadata": {},
     "output_type": "execute_result"
    }
   ],
   "source": [
    "car1  # an object of class car has been created"
   ]
  },
  {
   "cell_type": "code",
   "execution_count": 5,
   "id": "88c3ca14",
   "metadata": {},
   "outputs": [],
   "source": [
    "car1.windows = 5\n",
    "car1.doors = 4"
   ]
  },
  {
   "cell_type": "code",
   "execution_count": 6,
   "id": "5b53fec9",
   "metadata": {},
   "outputs": [
    {
     "name": "stdout",
     "output_type": "stream",
     "text": [
      "4\n"
     ]
    }
   ],
   "source": [
    "print(car1.doors)"
   ]
  },
  {
   "cell_type": "code",
   "execution_count": 7,
   "id": "9be75e50",
   "metadata": {},
   "outputs": [],
   "source": [
    "car2 = Car()\n",
    "car2.windows = 3"
   ]
  },
  {
   "cell_type": "code",
   "execution_count": 8,
   "id": "7995fd68",
   "metadata": {},
   "outputs": [
    {
     "name": "stdout",
     "output_type": "stream",
     "text": [
      "3\n"
     ]
    }
   ],
   "source": [
    "print(car2.windows)"
   ]
  },
  {
   "cell_type": "code",
   "execution_count": 19,
   "id": "d6a844c7",
   "metadata": {},
   "outputs": [],
   "source": [
    "class Cars:\n",
    "    def __init__(self, window, door, enginetype):\n",
    "        self.windows = window\n",
    "        self.doors = door\n",
    "        self.enginetype = enginetype\n",
    "    \n",
    "    def self_driving(self):\n",
    "        return 'this is a {} car'.format(self.enginetype)\n",
    "        \n",
    "    "
   ]
  },
  {
   "cell_type": "code",
   "execution_count": 20,
   "id": "04335987",
   "metadata": {},
   "outputs": [
    {
     "name": "stdout",
     "output_type": "stream",
     "text": [
      "4\n"
     ]
    }
   ],
   "source": [
    "car3= Cars(4,5,'petrol')\n",
    "print(car3.windows)"
   ]
  },
  {
   "cell_type": "code",
   "execution_count": 21,
   "id": "8b60a511",
   "metadata": {},
   "outputs": [
    {
     "data": {
      "text/plain": [
       "'this is a petrol car'"
      ]
     },
     "execution_count": 21,
     "metadata": {},
     "output_type": "execute_result"
    }
   ],
   "source": [
    "car3.self_driving() # reuse class for adding a new function that is self driving"
   ]
  },
  {
   "cell_type": "code",
   "execution_count": 15,
   "id": "38b29fc2",
   "metadata": {},
   "outputs": [
    {
     "name": "stdout",
     "output_type": "stream",
     "text": [
      "petrol\n"
     ]
    }
   ],
   "source": [
    "print(car3.enginetype)"
   ]
  },
  {
   "cell_type": "markdown",
   "id": "717c2d01",
   "metadata": {},
   "source": [
    "# Public , Protected and Private"
   ]
  },
  {
   "cell_type": "code",
   "execution_count": 11,
   "id": "2a8bbb98",
   "metadata": {},
   "outputs": [],
   "source": [
    "## all class variables are public\n",
    "\n",
    "class House():\n",
    "    def __init__(self, windows, doors, floors):\n",
    "        self.window = windows\n",
    "        self.door = doors\n",
    "        self.floor = floors\n",
    "        "
   ]
  },
  {
   "cell_type": "code",
   "execution_count": 12,
   "id": "0c9e9a47",
   "metadata": {},
   "outputs": [
    {
     "data": {
      "text/plain": [
       "['__class__',\n",
       " '__delattr__',\n",
       " '__dict__',\n",
       " '__dir__',\n",
       " '__doc__',\n",
       " '__eq__',\n",
       " '__format__',\n",
       " '__ge__',\n",
       " '__getattribute__',\n",
       " '__gt__',\n",
       " '__hash__',\n",
       " '__init__',\n",
       " '__init_subclass__',\n",
       " '__le__',\n",
       " '__lt__',\n",
       " '__module__',\n",
       " '__ne__',\n",
       " '__new__',\n",
       " '__reduce__',\n",
       " '__reduce_ex__',\n",
       " '__repr__',\n",
       " '__setattr__',\n",
       " '__sizeof__',\n",
       " '__str__',\n",
       " '__subclasshook__',\n",
       " '__weakref__',\n",
       " 'door',\n",
       " 'floor',\n",
       " 'window']"
      ]
     },
     "execution_count": 12,
     "metadata": {},
     "output_type": "execute_result"
    }
   ],
   "source": [
    "flat = House(4, 5, 2)  # object instantiation\n",
    "dir(flat)"
   ]
  },
  {
   "cell_type": "code",
   "execution_count": 3,
   "id": "e894b118",
   "metadata": {},
   "outputs": [],
   "source": [
    "## all class variables are protected represented by '_' in Python\n",
    "# Protec\n",
    "class House():\n",
    "    def __init__(self, windows, doors, floors):\n",
    "        self._window = windows\n",
    "        self._door = doors\n",
    "        self._floor = floors\n",
    "        "
   ]
  },
  {
   "cell_type": "code",
   "execution_count": 4,
   "id": "3503cf32",
   "metadata": {},
   "outputs": [
    {
     "data": {
      "text/plain": [
       "['__class__',\n",
       " '__delattr__',\n",
       " '__dict__',\n",
       " '__dir__',\n",
       " '__doc__',\n",
       " '__eq__',\n",
       " '__format__',\n",
       " '__ge__',\n",
       " '__getattribute__',\n",
       " '__gt__',\n",
       " '__hash__',\n",
       " '__init__',\n",
       " '__init_subclass__',\n",
       " '__le__',\n",
       " '__lt__',\n",
       " '__module__',\n",
       " '__ne__',\n",
       " '__new__',\n",
       " '__reduce__',\n",
       " '__reduce_ex__',\n",
       " '__repr__',\n",
       " '__setattr__',\n",
       " '__sizeof__',\n",
       " '__str__',\n",
       " '__subclasshook__',\n",
       " '__weakref__',\n",
       " '_door',\n",
       " '_floor',\n",
       " '_window']"
      ]
     },
     "execution_count": 4,
     "metadata": {},
     "output_type": "execute_result"
    }
   ],
   "source": [
    "villa = House(10 , 10 , 4)\n",
    "dir(villa)  #python doesnt restricts the variable thats why they are still showing in the directory"
   ]
  },
  {
   "cell_type": "markdown",
   "id": "22b58dcc",
   "metadata": {},
   "source": [
    "Protected variables can only be changed when they are being inherited from the parent class "
   ]
  },
  {
   "cell_type": "code",
   "execution_count": 7,
   "id": "b7d46b71",
   "metadata": {},
   "outputs": [],
   "source": [
    "class Apartment(House):\n",
    "    def __init__(self,windows, doors, floors, lifts):\n",
    "        super().__init__(windows, doors, floors)  # inheritance from super class\n",
    "        self.lift = lifts\n",
    "    "
   ]
  },
  {
   "cell_type": "code",
   "execution_count": 9,
   "id": "55433e76",
   "metadata": {},
   "outputs": [
    {
     "data": {
      "text/plain": [
       "['__class__',\n",
       " '__delattr__',\n",
       " '__dict__',\n",
       " '__dir__',\n",
       " '__doc__',\n",
       " '__eq__',\n",
       " '__format__',\n",
       " '__ge__',\n",
       " '__getattribute__',\n",
       " '__gt__',\n",
       " '__hash__',\n",
       " '__init__',\n",
       " '__init_subclass__',\n",
       " '__le__',\n",
       " '__lt__',\n",
       " '__module__',\n",
       " '__ne__',\n",
       " '__new__',\n",
       " '__reduce__',\n",
       " '__reduce_ex__',\n",
       " '__repr__',\n",
       " '__setattr__',\n",
       " '__sizeof__',\n",
       " '__str__',\n",
       " '__subclasshook__',\n",
       " '__weakref__',\n",
       " '_door',\n",
       " '_floor',\n",
       " '_window',\n",
       " 'lift']"
      ]
     },
     "execution_count": 9,
     "metadata": {},
     "output_type": "execute_result"
    }
   ],
   "source": [
    "apart = Apartment(3,5,20,2) # only child class variables that are _windows, _doors, _floors are overridden, and the lifts variable is public while the others are protected with the underscore\n",
    "dir(apart)"
   ]
  },
  {
   "cell_type": "code",
   "execution_count": 10,
   "id": "0afe4ccc",
   "metadata": {},
   "outputs": [
    {
     "data": {
      "text/plain": [
       "10"
      ]
     },
     "execution_count": 10,
     "metadata": {},
     "output_type": "execute_result"
    }
   ],
   "source": [
    "apart.windows = 10\n",
    "apart.windows  #value changed of windows in child class from the parent class"
   ]
  },
  {
   "cell_type": "code",
   "execution_count": 13,
   "id": "d3c9a2d3",
   "metadata": {},
   "outputs": [],
   "source": [
    "# private class members are written by double underscore '__'\n",
    "class House():\n",
    "    def __init__(self, windows, doors, floors):\n",
    "        self.__window = windows\n",
    "        self.__door = doors\n",
    "        self.__floor = floors\n",
    "        \n"
   ]
  },
  {
   "cell_type": "code",
   "execution_count": 14,
   "id": "6dde490f",
   "metadata": {},
   "outputs": [
    {
     "data": {
      "text/plain": [
       "['_House__door',\n",
       " '_House__floor',\n",
       " '_House__window',\n",
       " '__class__',\n",
       " '__delattr__',\n",
       " '__dict__',\n",
       " '__dir__',\n",
       " '__doc__',\n",
       " '__eq__',\n",
       " '__format__',\n",
       " '__ge__',\n",
       " '__getattribute__',\n",
       " '__gt__',\n",
       " '__hash__',\n",
       " '__init__',\n",
       " '__init_subclass__',\n",
       " '__le__',\n",
       " '__lt__',\n",
       " '__module__',\n",
       " '__ne__',\n",
       " '__new__',\n",
       " '__reduce__',\n",
       " '__reduce_ex__',\n",
       " '__repr__',\n",
       " '__setattr__',\n",
       " '__sizeof__',\n",
       " '__str__',\n",
       " '__subclasshook__',\n",
       " '__weakref__']"
      ]
     },
     "execution_count": 14,
     "metadata": {},
     "output_type": "execute_result"
    }
   ],
   "source": [
    "housepriv = House(2,3,4)\n",
    "dir (housepriv)"
   ]
  },
  {
   "cell_type": "markdown",
   "id": "f2e8dc74",
   "metadata": {},
   "source": [
    "# Inheritance"
   ]
  },
  {
   "cell_type": "code",
   "execution_count": 18,
   "id": "aaf9bfb5",
   "metadata": {},
   "outputs": [],
   "source": [
    "## all class variables are public\n",
    "\n",
    "class Cars:\n",
    "    def __init__(self, window, door, enginetype):\n",
    "        self.windows = window\n",
    "        self.doors = door\n",
    "        self.enginetype = enginetype\n",
    "    def drive(self):  # to call the object of this class self is used\n",
    "        print('this is the car Class')\n",
    "        \n",
    "    \n",
    "\n",
    "        "
   ]
  },
  {
   "cell_type": "code",
   "execution_count": 19,
   "id": "29793edb",
   "metadata": {},
   "outputs": [
    {
     "data": {
      "text/plain": [
       "<__main__.Cars at 0x1c456b123d0>"
      ]
     },
     "execution_count": 19,
     "metadata": {},
     "output_type": "execute_result"
    }
   ],
   "source": [
    "car = Cars(4,5,'diesel')\n",
    "car"
   ]
  },
  {
   "cell_type": "code",
   "execution_count": 20,
   "id": "f6774ad8",
   "metadata": {},
   "outputs": [],
   "source": [
    "class Audi(Cars):\n",
    "    def __init__(self, windows, doors, enginetype, enableai):\n",
    "        super().__init__( windows, doors, enginetype) #inheriting from the parent class its arguments\n",
    "        self.enableai = enableai #child class own attribute\n",
    "    def selfdriving(self):\n",
    "        print('audi supports self driving')"
   ]
  },
  {
   "cell_type": "code",
   "execution_count": 21,
   "id": "7566c313",
   "metadata": {},
   "outputs": [
    {
     "data": {
      "text/plain": [
       "['__class__',\n",
       " '__delattr__',\n",
       " '__dict__',\n",
       " '__dir__',\n",
       " '__doc__',\n",
       " '__eq__',\n",
       " '__format__',\n",
       " '__ge__',\n",
       " '__getattribute__',\n",
       " '__gt__',\n",
       " '__hash__',\n",
       " '__init__',\n",
       " '__init_subclass__',\n",
       " '__le__',\n",
       " '__lt__',\n",
       " '__module__',\n",
       " '__ne__',\n",
       " '__new__',\n",
       " '__reduce__',\n",
       " '__reduce_ex__',\n",
       " '__repr__',\n",
       " '__setattr__',\n",
       " '__sizeof__',\n",
       " '__str__',\n",
       " '__subclasshook__',\n",
       " '__weakref__',\n",
       " 'doors',\n",
       " 'drive',\n",
       " 'enableai',\n",
       " 'enginetype',\n",
       " 'selfdriving',\n",
       " 'windows']"
      ]
     },
     "execution_count": 21,
     "metadata": {},
     "output_type": "execute_result"
    }
   ],
   "source": [
    "audiQ7 = Audi(5,5,'diesel',True)\n",
    "dir(audiQ7)"
   ]
  },
  {
   "cell_type": "code",
   "execution_count": 22,
   "id": "50529ce9",
   "metadata": {},
   "outputs": [
    {
     "data": {
      "text/plain": [
       "5"
      ]
     },
     "execution_count": 22,
     "metadata": {},
     "output_type": "execute_result"
    }
   ],
   "source": [
    "audiQ7.doors #imheriting from the parent class"
   ]
  },
  {
   "cell_type": "code",
   "execution_count": 24,
   "id": "fb2e0794",
   "metadata": {},
   "outputs": [
    {
     "name": "stdout",
     "output_type": "stream",
     "text": [
      "this is the car Class\n"
     ]
    }
   ],
   "source": [
    "audiQ7.drive()"
   ]
  },
  {
   "cell_type": "code",
   "execution_count": null,
   "id": "dd1075c2",
   "metadata": {},
   "outputs": [],
   "source": []
  }
 ],
 "metadata": {
  "kernelspec": {
   "display_name": "Python 3 (ipykernel)",
   "language": "python",
   "name": "python3"
  },
  "language_info": {
   "codemirror_mode": {
    "name": "ipython",
    "version": 3
   },
   "file_extension": ".py",
   "mimetype": "text/x-python",
   "name": "python",
   "nbconvert_exporter": "python",
   "pygments_lexer": "ipython3",
   "version": "3.9.12"
  }
 },
 "nbformat": 4,
 "nbformat_minor": 5
}
