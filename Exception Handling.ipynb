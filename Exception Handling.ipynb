{
 "cells": [
  {
   "cell_type": "code",
   "execution_count": 1,
   "id": "8c271220",
   "metadata": {},
   "outputs": [
    {
     "name": "stdout",
     "output_type": "stream",
     "text": [
      "some problem may have occured\n"
     ]
    }
   ],
   "source": [
    "try:\n",
    "    #code block where exception can occur\n",
    "    a=b\n",
    "except:\n",
    "    print('some problem may have occured')"
   ]
  },
  {
   "cell_type": "code",
   "execution_count": 2,
   "id": "a8f9023b",
   "metadata": {},
   "outputs": [
    {
     "ename": "NameError",
     "evalue": "name 'b' is not defined",
     "output_type": "error",
     "traceback": [
      "\u001b[1;31m---------------------------------------------------------------------------\u001b[0m",
      "\u001b[1;31mNameError\u001b[0m                                 Traceback (most recent call last)",
      "Input \u001b[1;32mIn [2]\u001b[0m, in \u001b[0;36m<cell line: 1>\u001b[1;34m()\u001b[0m\n\u001b[1;32m----> 1\u001b[0m a\u001b[38;5;241m=\u001b[39m\u001b[43mb\u001b[49m\n",
      "\u001b[1;31mNameError\u001b[0m: name 'b' is not defined"
     ]
    }
   ],
   "source": [
    "a=b #name error exception is derieved from exception class in python"
   ]
  },
  {
   "cell_type": "code",
   "execution_count": 7,
   "id": "43c33c17",
   "metadata": {},
   "outputs": [
    {
     "name": "stdout",
     "output_type": "stream",
     "text": [
      "Variable not defined correctly\n"
     ]
    }
   ],
   "source": [
    "try:\n",
    "    a=1\n",
    "    m=n\n",
    "    b='s'\n",
    "    c=a+b\n",
    "except NameError as ex1:   #catch block\n",
    "    print('Variable not defined correctly')\n",
    "except Exception as ex:\n",
    "    print(ex)"
   ]
  },
  {
   "cell_type": "code",
   "execution_count": 8,
   "id": "8449d802",
   "metadata": {},
   "outputs": [
    {
     "name": "stdout",
     "output_type": "stream",
     "text": [
      "unsupported operand type(s) for +: 'int' and 'str'\n"
     ]
    }
   ],
   "source": [
    "try:\n",
    "    a=1\n",
    "    b='s'\n",
    "    c=a+b\n",
    "except NameError as ex1:   #catch block\n",
    "    print('Variable not defined correctly')\n",
    "except Exception as ex:  \n",
    "    print(ex)"
   ]
  },
  {
   "cell_type": "markdown",
   "id": "ad92d27b",
   "metadata": {},
   "source": [
    "we use alias when we are inheriting from the class of python and when we wre creating our own exceptions we dont need the alias "
   ]
  },
  {
   "cell_type": "code",
   "execution_count": 9,
   "id": "36e6a20e",
   "metadata": {},
   "outputs": [
    {
     "name": "stdout",
     "output_type": "stream",
     "text": [
      "Variable not defined correctly\n"
     ]
    }
   ],
   "source": [
    "#if one exception is not caught then it will go to the next block\n",
    "\n",
    "try:\n",
    "    a=1\n",
    "    m=n\n",
    "    b='s'\n",
    "    c=a+b\n",
    "except NameError:   #catch block\n",
    "    print('Variable not defined correctly')\n",
    "except TypeError:\n",
    "    print('Tru to make datatype similar')\n",
    "except Exception as ex:\n",
    "    print(ex)"
   ]
  },
  {
   "cell_type": "code",
   "execution_count": 13,
   "id": "8e33df6d",
   "metadata": {},
   "outputs": [
    {
     "name": "stdout",
     "output_type": "stream",
     "text": [
      "Enter 1st number5\n",
      "Enter 2nd number0\n",
      "Provide number greater than 0\n"
     ]
    }
   ],
   "source": [
    "try:\n",
    "    a= int(input('Enter 1st number'))\n",
    "    b = int(input('Enter 2nd number'))\n",
    "    c=a/b\n",
    "    d=a*b\n",
    "    e=a+b\n",
    "    print('Division is {}'.format(c))\n",
    "    print('Multiplication is {}'.format(d))\n",
    "    print('Addition is {}'.format(e))\n",
    "except NameError:   #catch block\n",
    "    print('Variable not defined correctly')\n",
    "except TypeError:\n",
    "    print('Try to make datatype similar')\n",
    "except ZeroDivisionError:\n",
    "    print('Provide number greater than 0')\n",
    "except Exception as ex:\n",
    "    print(ex)"
   ]
  },
  {
   "cell_type": "code",
   "execution_count": 15,
   "id": "0340f2a5",
   "metadata": {},
   "outputs": [
    {
     "name": "stdout",
     "output_type": "stream",
     "text": [
      "Enter 1st number1\n",
      "Enter 2nd number2\n",
      "Division is 0.5\n",
      "Multiplication is 2\n",
      "Addition is 3\n"
     ]
    }
   ],
   "source": [
    "# if the code is successfully executed then put that message in the else block i.e if no exceptions occured during code execution \n",
    "\n",
    "try:\n",
    "    a= int(input('Enter 1st number'))\n",
    "    b = int(input('Enter 2nd number'))\n",
    "    c=a/b\n",
    "    d=a*b\n",
    "    e=a+b\n",
    "except NameError:   #catch block\n",
    "    print('Variable not defined correctly')\n",
    "except TypeError:\n",
    "    print('Try to make datatype similar')\n",
    "except ZeroDivisionError:\n",
    "    print('Provide number greater than 0')\n",
    "except Exception as ex:\n",
    "    print(ex)\n",
    "else:  # for successful implementation instead of writing the print message in the try block \n",
    "    print('Division is {}'.format(c))\n",
    "    print('Multiplication is {}'.format(d))\n",
    "    print('Addition is {}'.format(e))\n",
    "    "
   ]
  },
  {
   "cell_type": "markdown",
   "id": "2205e438",
   "metadata": {},
   "source": [
    "Finally block will be executed to tel whether the code was successful or not in most case when we are making connections in the database then we have to connect database in the try block but if an exception occurs due to some reason the code couldnt compilate then we have to close the connection in finally block otherwise the database will remain open and will be a threat"
   ]
  },
  {
   "cell_type": "code",
   "execution_count": 24,
   "id": "f47d8076",
   "metadata": {},
   "outputs": [
    {
     "name": "stdout",
     "output_type": "stream",
     "text": [
      "Code executing finished\n",
      "Execution time: 0.0000 seconds\n"
     ]
    },
    {
     "ename": "KeyboardInterrupt",
     "evalue": "Interrupted by user",
     "output_type": "error",
     "traceback": [
      "\u001b[1;31m---------------------------------------------------------------------------\u001b[0m",
      "\u001b[1;31mKeyboardInterrupt\u001b[0m                         Traceback (most recent call last)",
      "Input \u001b[1;32mIn [24]\u001b[0m, in \u001b[0;36m<cell line: 1>\u001b[1;34m()\u001b[0m\n\u001b[0;32m      1\u001b[0m \u001b[38;5;28;01mtry\u001b[39;00m:\n\u001b[1;32m----> 2\u001b[0m     a\u001b[38;5;241m=\u001b[39m \u001b[38;5;28mint\u001b[39m(\u001b[38;5;28;43minput\u001b[39;49m\u001b[43m(\u001b[49m\u001b[38;5;124;43m'\u001b[39;49m\u001b[38;5;124;43mEnter 1st number\u001b[39;49m\u001b[38;5;124;43m'\u001b[39;49m\u001b[43m)\u001b[49m)\n\u001b[0;32m      3\u001b[0m     b \u001b[38;5;241m=\u001b[39m \u001b[38;5;28mint\u001b[39m(\u001b[38;5;28minput\u001b[39m(\u001b[38;5;124m'\u001b[39m\u001b[38;5;124mEnter 2nd number\u001b[39m\u001b[38;5;124m'\u001b[39m))\n\u001b[0;32m      4\u001b[0m     c\u001b[38;5;241m=\u001b[39ma\u001b[38;5;241m/\u001b[39mb\n",
      "File \u001b[1;32mD:\\Programs\\Anaconda\\lib\\site-packages\\ipykernel\\kernelbase.py:1075\u001b[0m, in \u001b[0;36mKernel.raw_input\u001b[1;34m(self, prompt)\u001b[0m\n\u001b[0;32m   1071\u001b[0m \u001b[38;5;28;01mif\u001b[39;00m \u001b[38;5;129;01mnot\u001b[39;00m \u001b[38;5;28mself\u001b[39m\u001b[38;5;241m.\u001b[39m_allow_stdin:\n\u001b[0;32m   1072\u001b[0m     \u001b[38;5;28;01mraise\u001b[39;00m StdinNotImplementedError(\n\u001b[0;32m   1073\u001b[0m         \u001b[38;5;124m\"\u001b[39m\u001b[38;5;124mraw_input was called, but this frontend does not support input requests.\u001b[39m\u001b[38;5;124m\"\u001b[39m\n\u001b[0;32m   1074\u001b[0m     )\n\u001b[1;32m-> 1075\u001b[0m \u001b[38;5;28;01mreturn\u001b[39;00m \u001b[38;5;28;43mself\u001b[39;49m\u001b[38;5;241;43m.\u001b[39;49m\u001b[43m_input_request\u001b[49m\u001b[43m(\u001b[49m\n\u001b[0;32m   1076\u001b[0m \u001b[43m    \u001b[49m\u001b[38;5;28;43mstr\u001b[39;49m\u001b[43m(\u001b[49m\u001b[43mprompt\u001b[49m\u001b[43m)\u001b[49m\u001b[43m,\u001b[49m\n\u001b[0;32m   1077\u001b[0m \u001b[43m    \u001b[49m\u001b[38;5;28;43mself\u001b[39;49m\u001b[38;5;241;43m.\u001b[39;49m\u001b[43m_parent_ident\u001b[49m\u001b[43m[\u001b[49m\u001b[38;5;124;43m\"\u001b[39;49m\u001b[38;5;124;43mshell\u001b[39;49m\u001b[38;5;124;43m\"\u001b[39;49m\u001b[43m]\u001b[49m\u001b[43m,\u001b[49m\n\u001b[0;32m   1078\u001b[0m \u001b[43m    \u001b[49m\u001b[38;5;28;43mself\u001b[39;49m\u001b[38;5;241;43m.\u001b[39;49m\u001b[43mget_parent\u001b[49m\u001b[43m(\u001b[49m\u001b[38;5;124;43m\"\u001b[39;49m\u001b[38;5;124;43mshell\u001b[39;49m\u001b[38;5;124;43m\"\u001b[39;49m\u001b[43m)\u001b[49m\u001b[43m,\u001b[49m\n\u001b[0;32m   1079\u001b[0m \u001b[43m    \u001b[49m\u001b[43mpassword\u001b[49m\u001b[38;5;241;43m=\u001b[39;49m\u001b[38;5;28;43;01mFalse\u001b[39;49;00m\u001b[43m,\u001b[49m\n\u001b[0;32m   1080\u001b[0m \u001b[43m\u001b[49m\u001b[43m)\u001b[49m\n",
      "File \u001b[1;32mD:\\Programs\\Anaconda\\lib\\site-packages\\ipykernel\\kernelbase.py:1120\u001b[0m, in \u001b[0;36mKernel._input_request\u001b[1;34m(self, prompt, ident, parent, password)\u001b[0m\n\u001b[0;32m   1117\u001b[0m             \u001b[38;5;28;01mbreak\u001b[39;00m\n\u001b[0;32m   1118\u001b[0m \u001b[38;5;28;01mexcept\u001b[39;00m \u001b[38;5;167;01mKeyboardInterrupt\u001b[39;00m:\n\u001b[0;32m   1119\u001b[0m     \u001b[38;5;66;03m# re-raise KeyboardInterrupt, to truncate traceback\u001b[39;00m\n\u001b[1;32m-> 1120\u001b[0m     \u001b[38;5;28;01mraise\u001b[39;00m \u001b[38;5;167;01mKeyboardInterrupt\u001b[39;00m(\u001b[38;5;124m\"\u001b[39m\u001b[38;5;124mInterrupted by user\u001b[39m\u001b[38;5;124m\"\u001b[39m) \u001b[38;5;28;01mfrom\u001b[39;00m \u001b[38;5;28mNone\u001b[39m\n\u001b[0;32m   1121\u001b[0m \u001b[38;5;28;01mexcept\u001b[39;00m \u001b[38;5;167;01mException\u001b[39;00m:\n\u001b[0;32m   1122\u001b[0m     \u001b[38;5;28mself\u001b[39m\u001b[38;5;241m.\u001b[39mlog\u001b[38;5;241m.\u001b[39mwarning(\u001b[38;5;124m\"\u001b[39m\u001b[38;5;124mInvalid Message:\u001b[39m\u001b[38;5;124m\"\u001b[39m, exc_info\u001b[38;5;241m=\u001b[39m\u001b[38;5;28;01mTrue\u001b[39;00m)\n",
      "\u001b[1;31mKeyboardInterrupt\u001b[0m: Interrupted by user"
     ]
    }
   ],
   "source": [
    "try:\n",
    "    a= int(input('Enter 1st number'))\n",
    "    b = int(input('Enter 2nd number'))\n",
    "    c=a/b\n",
    "    d=a*b\n",
    "    e=a+b\n",
    "except NameError:   #catch block\n",
    "    print('Variable not defined correctly')\n",
    "except TypeError:\n",
    "    print('Try to make datatype similar')\n",
    "except ZeroDivisionError:\n",
    "    print('Provide number greater than 0')\n",
    "except Exception as ex:\n",
    "    print(ex)\n",
    "else:  # for successful implementation instead of writing the print message in the try block \n",
    "    print('Division is {}'.format(c))\n",
    "    print('Multiplication is {}'.format(d))\n",
    "    print('Addition is {}'.format(e))\n",
    "finally:\n",
    "    print('Code executing finished')\n",
    "    start_time = time.time()\n",
    "    end_time = time.time()\n",
    "    execution_time = end_time - start_time\n",
    "    print('Execution time: {:.4f} seconds'.format(execution_time))\n",
    "    "
   ]
  },
  {
   "cell_type": "code",
   "execution_count": 17,
   "id": "6d60b589",
   "metadata": {},
   "outputs": [],
   "source": [
    "import pyforest"
   ]
  },
  {
   "cell_type": "markdown",
   "id": "f2628a66",
   "metadata": {},
   "source": [
    "# Custom Exception"
   ]
  },
  {
   "cell_type": "code",
   "execution_count": null,
   "id": "3f98e5c5",
   "metadata": {},
   "outputs": [],
   "source": [
    "class Error(Exception): #inherited the exception class\n",
    "    pass\n",
    "\n",
    "class dobException(Error):  # will inherit the error class from above\n",
    "    pass"
   ]
  },
  {
   "cell_type": "code",
   "execution_count": null,
   "id": "85754091",
   "metadata": {},
   "outputs": [],
   "source": [
    "year = int(input('Enter your year of birth '))\n",
    "age = 2023 - year\n",
    "\n",
    "try:\n",
    "    if age > 20 and age <=30:\n",
    "        print('The age is valid for exams ',age)\n",
    "    else:\n",
    "        raise dobException  #raising the custom exception in else block\n",
    "except dobException: # defining our custom made exception\n",
    "    print('The year of birth is not within the range, Cannot apply for examination',age)"
   ]
  }
 ],
 "metadata": {
  "kernelspec": {
   "display_name": "Python 3 (ipykernel)",
   "language": "python",
   "name": "python3"
  },
  "language_info": {
   "codemirror_mode": {
    "name": "ipython",
    "version": 3
   },
   "file_extension": ".py",
   "mimetype": "text/x-python",
   "name": "python",
   "nbconvert_exporter": "python",
   "pygments_lexer": "ipython3",
   "version": "3.9.12"
  }
 },
 "nbformat": 4,
 "nbformat_minor": 5
}
