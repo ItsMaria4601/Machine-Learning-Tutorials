{
 "cells": [
  {
   "cell_type": "markdown",
   "id": "289f581e",
   "metadata": {},
   "source": [
    "# Numpy arrays "
   ]
  },
  {
   "cell_type": "code",
   "execution_count": 1,
   "id": "e96148d9",
   "metadata": {},
   "outputs": [],
   "source": [
    "import numpy as np "
   ]
  },
  {
   "cell_type": "code",
   "execution_count": 3,
   "id": "5c35320a",
   "metadata": {},
   "outputs": [
    {
     "data": {
      "text/plain": [
       "array([1, 2, 3, 4, 5])"
      ]
     },
     "execution_count": 3,
     "metadata": {},
     "output_type": "execute_result"
    }
   ],
   "source": [
    "list = [1,2,3,4,5]\n",
    "\n",
    "arr = np.array(list)  #array fucntion creates an array based upon the given data type of array\n",
    "\n",
    "arr #will print a 1D array "
   ]
  },
  {
   "cell_type": "code",
   "execution_count": 5,
   "id": "a29bc8c2",
   "metadata": {},
   "outputs": [
    {
     "data": {
      "text/plain": [
       "(5,)"
      ]
     },
     "execution_count": 5,
     "metadata": {},
     "output_type": "execute_result"
    }
   ],
   "source": [
    "arr.shape #how many number of rows and columns are there"
   ]
  },
  {
   "cell_type": "markdown",
   "id": "6928874f",
   "metadata": {},
   "source": [
    "# Converting 1D to 2D array "
   ]
  },
  {
   "cell_type": "code",
   "execution_count": 76,
   "id": "91202900",
   "metadata": {},
   "outputs": [
    {
     "data": {
      "text/plain": [
       "array([[1, 2, 3, 4, 6, 4],\n",
       "       [9, 3, 5, 6, 7, 8],\n",
       "       [0, 4, 6, 9, 2, 3]], dtype=object)"
      ]
     },
     "execution_count": 76,
     "metadata": {},
     "output_type": "execute_result"
    }
   ],
   "source": [
    "list1 = [1,2,3,4,6,4]\n",
    "list2 = [9,3,5,6,7,8]\n",
    "list3 = [0,4,6,9,2,3]\n",
    "\n",
    "arr = np.array([list1, list2, list3], dtype=object) #makind 2D arrays\n",
    "arr\n",
    "\n",
    "#if 2 square brackets a 2D array is made and if 3 square brackets 3D array"
   ]
  },
  {
   "cell_type": "code",
   "execution_count": 77,
   "id": "0ee6a272",
   "metadata": {},
   "outputs": [
    {
     "data": {
      "text/plain": [
       "(3, 6)"
      ]
     },
     "execution_count": 77,
     "metadata": {},
     "output_type": "execute_result"
    }
   ],
   "source": [
    "arr.shape"
   ]
  },
  {
   "cell_type": "code",
   "execution_count": 80,
   "id": "2767283e",
   "metadata": {},
   "outputs": [
    {
     "data": {
      "text/plain": [
       "array([[1, 2, 3],\n",
       "       [4, 6, 4],\n",
       "       [9, 3, 5],\n",
       "       [6, 7, 8],\n",
       "       [0, 4, 6],\n",
       "       [9, 2, 3]], dtype=object)"
      ]
     },
     "execution_count": 80,
     "metadata": {},
     "output_type": "execute_result"
    }
   ],
   "source": [
    "arr.reshape(6,3) #will convert the total no of elements which should be the same into a new shape"
   ]
  },
  {
   "cell_type": "code",
   "execution_count": 38,
   "id": "00498419",
   "metadata": {},
   "outputs": [
    {
     "data": {
      "text/plain": [
       "array([[1, 2, 3, 4, 6, 4, 9, 3, 5, 6, 7, 8, 0, 4, 6, 9, 2, 3]],\n",
       "      dtype=object)"
      ]
     },
     "execution_count": 38,
     "metadata": {},
     "output_type": "execute_result"
    }
   ],
   "source": [
    "arr.reshape(1,18) #since we have total elements 18 so we can only convert these 18 elements otherwise the array other than this will raise an error"
   ]
  },
  {
   "cell_type": "markdown",
   "id": "d3bd9904",
   "metadata": {},
   "source": [
    "# Indexing for 1D array"
   ]
  },
  {
   "cell_type": "code",
   "execution_count": 5,
   "id": "9c783351",
   "metadata": {},
   "outputs": [
    {
     "data": {
      "text/plain": [
       "array([[1, 2, 3],\n",
       "       [4, 5, 6],\n",
       "       [7, 8, 9]], dtype=object)"
      ]
     },
     "execution_count": 5,
     "metadata": {},
     "output_type": "execute_result"
    }
   ],
   "source": [
    "arr1 = [1,2,3]\n",
    "arr2 = [4,5,6]\n",
    "arr3 = [7,8,9]\n",
    "\n",
    "arr = np.array([arr1, arr2, arr3], dtype=object)\n",
    "arr"
   ]
  },
  {
   "cell_type": "code",
   "execution_count": 7,
   "id": "f64723df",
   "metadata": {},
   "outputs": [
    {
     "data": {
      "text/plain": [
       "array([[5, 6],\n",
       "       [8, 9]], dtype=object)"
      ]
     },
     "execution_count": 7,
     "metadata": {},
     "output_type": "execute_result"
    }
   ],
   "source": [
    "arr[1:,1:]"
   ]
  },
  {
   "cell_type": "code",
   "execution_count": 40,
   "id": "c606058e",
   "metadata": {},
   "outputs": [],
   "source": [
    "arr = np.array([1,2,3,4,5,6,7,8,9])"
   ]
  },
  {
   "cell_type": "code",
   "execution_count": 41,
   "id": "637c27df",
   "metadata": {},
   "outputs": [
    {
     "data": {
      "text/plain": [
       "1"
      ]
     },
     "execution_count": 41,
     "metadata": {},
     "output_type": "execute_result"
    }
   ],
   "source": [
    "arr[0] #accessing element at index 0"
   ]
  },
  {
   "cell_type": "markdown",
   "id": "31d8f822",
   "metadata": {},
   "source": [
    "# Indexing for 2D array "
   ]
  },
  {
   "cell_type": "code",
   "execution_count": 67,
   "id": "fe71f673",
   "metadata": {},
   "outputs": [
    {
     "data": {
      "text/plain": [
       "array([   1.        ,    1.18367347,    1.36734694, 1000.        ,\n",
       "       1000.        , 1000.        , 1000.        , 1000.        ,\n",
       "       1000.        , 1000.        , 1000.        , 1000.        ,\n",
       "       1000.        , 1000.        , 1000.        , 1000.        ,\n",
       "       1000.        , 1000.        , 1000.        , 1000.        ,\n",
       "       1000.        , 1000.        , 1000.        , 1000.        ,\n",
       "       1000.        , 1000.        , 1000.        , 1000.        ,\n",
       "       1000.        , 1000.        , 1000.        , 1000.        ,\n",
       "       1000.        , 1000.        , 1000.        , 1000.        ,\n",
       "       1000.        , 1000.        , 1000.        , 1000.        ,\n",
       "       1000.        , 1000.        , 1000.        , 1000.        ,\n",
       "       1000.        , 1000.        , 1000.        , 1000.        ,\n",
       "       1000.        , 1000.        ])"
      ]
     },
     "execution_count": 67,
     "metadata": {},
     "output_type": "execute_result"
    }
   ],
   "source": [
    "arr"
   ]
  },
  {
   "cell_type": "code",
   "execution_count": 45,
   "id": "f1926b59",
   "metadata": {},
   "outputs": [
    {
     "data": {
      "text/plain": [
       "array([[1, 2, 3, 4, 6, 4],\n",
       "       [9, 3, 5, 6, 7, 8],\n",
       "       [0, 4, 6, 9, 2, 3]], dtype=object)"
      ]
     },
     "execution_count": 45,
     "metadata": {},
     "output_type": "execute_result"
    }
   ],
   "source": [
    "arr[:,:] #to print all the rows and all the columns"
   ]
  },
  {
   "cell_type": "code",
   "execution_count": 46,
   "id": "e83fb443",
   "metadata": {},
   "outputs": [
    {
     "data": {
      "text/plain": [
       "array([[1, 2, 3, 4, 6, 4],\n",
       "       [9, 3, 5, 6, 7, 8]], dtype=object)"
      ]
     },
     "execution_count": 46,
     "metadata": {},
     "output_type": "execute_result"
    }
   ],
   "source": [
    "arr[0:2,:] #to get elements till the second row but get all the columns"
   ]
  },
  {
   "cell_type": "code",
   "execution_count": 47,
   "id": "0f7a5972",
   "metadata": {},
   "outputs": [
    {
     "data": {
      "text/plain": [
       "array([[1, 2],\n",
       "       [9, 3]], dtype=object)"
      ]
     },
     "execution_count": 47,
     "metadata": {},
     "output_type": "execute_result"
    }
   ],
   "source": [
    "arr[0:2,0:2] #to get the rows till index two and get column till index 2"
   ]
  },
  {
   "cell_type": "code",
   "execution_count": 48,
   "id": "15b0b04e",
   "metadata": {},
   "outputs": [
    {
     "data": {
      "text/plain": [
       "array([[6, 7, 8],\n",
       "       [9, 2, 3]], dtype=object)"
      ]
     },
     "execution_count": 48,
     "metadata": {},
     "output_type": "execute_result"
    }
   ],
   "source": [
    "arr[1:,3:]"
   ]
  },
  {
   "cell_type": "markdown",
   "id": "3dbd7d89",
   "metadata": {},
   "source": [
    "# In-built Array Functions"
   ]
  },
  {
   "cell_type": "code",
   "execution_count": 52,
   "id": "85425c7f",
   "metadata": {},
   "outputs": [
    {
     "data": {
      "text/plain": [
       "array([0, 2, 4, 6, 8])"
      ]
     },
     "execution_count": 52,
     "metadata": {},
     "output_type": "execute_result"
    }
   ],
   "source": [
    "arr = np.arange(0,10,step=2) # quickly creates a NEW 1D array ranging from 1 to 10 with an interval of 2 \n",
    "arr"
   ]
  },
  {
   "cell_type": "code",
   "execution_count": 54,
   "id": "40cb0bb0",
   "metadata": {},
   "outputs": [
    {
     "data": {
      "text/plain": [
       "array([ 1.        ,  1.18367347,  1.36734694,  1.55102041,  1.73469388,\n",
       "        1.91836735,  2.10204082,  2.28571429,  2.46938776,  2.65306122,\n",
       "        2.83673469,  3.02040816,  3.20408163,  3.3877551 ,  3.57142857,\n",
       "        3.75510204,  3.93877551,  4.12244898,  4.30612245,  4.48979592,\n",
       "        4.67346939,  4.85714286,  5.04081633,  5.2244898 ,  5.40816327,\n",
       "        5.59183673,  5.7755102 ,  5.95918367,  6.14285714,  6.32653061,\n",
       "        6.51020408,  6.69387755,  6.87755102,  7.06122449,  7.24489796,\n",
       "        7.42857143,  7.6122449 ,  7.79591837,  7.97959184,  8.16326531,\n",
       "        8.34693878,  8.53061224,  8.71428571,  8.89795918,  9.08163265,\n",
       "        9.26530612,  9.44897959,  9.63265306,  9.81632653, 10.        ])"
      ]
     },
     "execution_count": 54,
     "metadata": {},
     "output_type": "execute_result"
    }
   ],
   "source": [
    "arr = np.linspace(1,10,50) #to generate equally spaced 50 points in an array ranging from 1 to 10\n",
    "arr"
   ]
  },
  {
   "cell_type": "code",
   "execution_count": 56,
   "id": "7430bd6b",
   "metadata": {},
   "outputs": [
    {
     "data": {
      "text/plain": [
       "array([  1.        ,   1.18367347,   1.36734694, 100.        ,\n",
       "       100.        , 100.        , 100.        , 100.        ,\n",
       "       100.        , 100.        , 100.        , 100.        ,\n",
       "       100.        , 100.        , 100.        , 100.        ,\n",
       "       100.        , 100.        , 100.        , 100.        ,\n",
       "       100.        , 100.        , 100.        , 100.        ,\n",
       "       100.        , 100.        , 100.        , 100.        ,\n",
       "       100.        , 100.        , 100.        , 100.        ,\n",
       "       100.        , 100.        , 100.        , 100.        ,\n",
       "       100.        , 100.        , 100.        , 100.        ,\n",
       "       100.        , 100.        , 100.        , 100.        ,\n",
       "       100.        , 100.        , 100.        , 100.        ,\n",
       "       100.        , 100.        ])"
      ]
     },
     "execution_count": 56,
     "metadata": {},
     "output_type": "execute_result"
    }
   ],
   "source": [
    "#copy function and broadcasting\n",
    "\n",
    "arr[3:]=100  #to replace the numbers startimg from index 3 up till the end with 100 \n",
    "arr"
   ]
  },
  {
   "cell_type": "code",
   "execution_count": 58,
   "id": "9874af95",
   "metadata": {},
   "outputs": [
    {
     "data": {
      "text/plain": [
       "array([  1.        ,   1.18367347,   1.36734694, 500.        ,\n",
       "       500.        , 500.        , 500.        , 500.        ,\n",
       "       500.        , 500.        , 500.        , 500.        ,\n",
       "       500.        , 500.        , 500.        , 500.        ,\n",
       "       500.        , 500.        , 500.        , 500.        ,\n",
       "       500.        , 500.        , 500.        , 500.        ,\n",
       "       500.        , 500.        , 500.        , 500.        ,\n",
       "       500.        , 500.        , 500.        , 500.        ,\n",
       "       500.        , 500.        , 500.        , 500.        ,\n",
       "       500.        , 500.        , 500.        , 500.        ,\n",
       "       500.        , 500.        , 500.        , 500.        ,\n",
       "       500.        , 500.        , 500.        , 500.        ,\n",
       "       500.        , 500.        ])"
      ]
     },
     "execution_count": 58,
     "metadata": {},
     "output_type": "execute_result"
    }
   ],
   "source": [
    "#array reference typing is that the arrays are sharing the same memory block hence when there are two variables in the same memory block then change in one variable will result in changing of all variables to avoid this we can use the copy function \n",
    "\n",
    "arr1=arr\n",
    "arr1[3:]=500\n",
    "arr1"
   ]
  },
  {
   "cell_type": "code",
   "execution_count": 59,
   "id": "1ac763da",
   "metadata": {},
   "outputs": [
    {
     "name": "stdout",
     "output_type": "stream",
     "text": [
      "[  1.           1.18367347   1.36734694 500.         500.\n",
      " 500.         500.         500.         500.         500.\n",
      " 500.         500.         500.         500.         500.\n",
      " 500.         500.         500.         500.         500.\n",
      " 500.         500.         500.         500.         500.\n",
      " 500.         500.         500.         500.         500.\n",
      " 500.         500.         500.         500.         500.\n",
      " 500.         500.         500.         500.         500.\n",
      " 500.         500.         500.         500.         500.\n",
      " 500.         500.         500.         500.         500.        ]\n",
      "[   1.            1.18367347    1.36734694 1000.         1000.\n",
      " 1000.         1000.         1000.         1000.         1000.\n",
      " 1000.         1000.         1000.         1000.         1000.\n",
      " 1000.         1000.         1000.         1000.         1000.\n",
      " 1000.         1000.         1000.         1000.         1000.\n",
      " 1000.         1000.         1000.         1000.         1000.\n",
      " 1000.         1000.         1000.         1000.         1000.\n",
      " 1000.         1000.         1000.         1000.         1000.\n",
      " 1000.         1000.         1000.         1000.         1000.\n",
      " 1000.         1000.         1000.         1000.         1000.        ]\n"
     ]
    }
   ],
   "source": [
    "# a copy function creates a seperate memory block for storing the different variable\n",
    "\n",
    "print(arr)\n",
    "arr1[3:]=1000\n",
    "print(arr1)"
   ]
  },
  {
   "cell_type": "code",
   "execution_count": 73,
   "id": "10fa06c4",
   "metadata": {},
   "outputs": [
    {
     "data": {
      "text/plain": [
       "array([5, 6, 7, 8, 9])"
      ]
     },
     "execution_count": 73,
     "metadata": {},
     "output_type": "execute_result"
    }
   ],
   "source": [
    "arr1 = np.arange(5,10).reshape(5)\n",
    "arr1"
   ]
  },
  {
   "cell_type": "code",
   "execution_count": 81,
   "id": "30f63121",
   "metadata": {},
   "outputs": [
    {
     "data": {
      "text/plain": [
       "array([1., 1., 1., 1.])"
      ]
     },
     "execution_count": 81,
     "metadata": {},
     "output_type": "execute_result"
    }
   ],
   "source": [
    "np.ones(4) #to convert the 4 elements of array to 1 only"
   ]
  },
  {
   "cell_type": "code",
   "execution_count": 85,
   "id": "9e6a00d1",
   "metadata": {},
   "outputs": [
    {
     "data": {
      "text/plain": [
       "array([[0.99496785, 0.55729562, 0.95140427],\n",
       "       [0.55112869, 0.20655418, 0.3772287 ],\n",
       "       [0.31737698, 0.68416219, 0.19132771]])"
      ]
     },
     "execution_count": 85,
     "metadata": {},
     "output_type": "execute_result"
    }
   ],
   "source": [
    "np.random.rand(3,3) #to generate random values of 3 rows and 3 columns in a uniform distribution "
   ]
  },
  {
   "cell_type": "code",
   "execution_count": 86,
   "id": "3a4726fc",
   "metadata": {
    "scrolled": false
   },
   "outputs": [
    {
     "data": {
      "text/plain": [
       "array([[-0.51800968, -1.16589505, -1.41249714, -0.60479552],\n",
       "       [-1.87185105, -0.46740063, -0.10239274, -0.50859849],\n",
       "       [-0.52053677,  0.77452172, -1.45915453, -0.17865804],\n",
       "       [-0.6746137 ,  1.51618104, -1.51122833, -0.03114089]])"
      ]
     },
     "execution_count": 86,
     "metadata": {},
     "output_type": "execute_result"
    }
   ],
   "source": [
    "np.random.randn(4,4) #to generate random values in a standard normal distribution"
   ]
  },
  {
   "cell_type": "code",
   "execution_count": 94,
   "id": "658cc532",
   "metadata": {},
   "outputs": [
    {
     "data": {
      "text/plain": [
       "array([[32, 52, 56, 45],\n",
       "       [53,  4, 85, 72]])"
      ]
     },
     "execution_count": 94,
     "metadata": {},
     "output_type": "execute_result"
    }
   ],
   "source": [
    "np.random.randint(0,100,8).reshape(2,4) #also reshape to 2 rows and 4 columns #generate 8 random numbers between 0 to 100 "
   ]
  },
  {
   "cell_type": "markdown",
   "id": "6df7d057",
   "metadata": {},
   "source": [
    "# Conditions useful for EDA"
   ]
  },
  {
   "cell_type": "code",
   "execution_count": 9,
   "id": "654a705e",
   "metadata": {},
   "outputs": [
    {
     "data": {
      "text/plain": [
       "array([1], dtype=object)"
      ]
     },
     "execution_count": 9,
     "metadata": {},
     "output_type": "execute_result"
    }
   ],
   "source": [
    "arr[arr<2] #to check for elements in the array which are less than 2"
   ]
  },
  {
   "cell_type": "code",
   "execution_count": 10,
   "id": "4b73c151",
   "metadata": {},
   "outputs": [
    {
     "data": {
      "text/plain": [
       "array([[ True, False, False],\n",
       "       [False, False, False],\n",
       "       [False, False, False]])"
      ]
     },
     "execution_count": 10,
     "metadata": {},
     "output_type": "execute_result"
    }
   ],
   "source": [
    "arr<2"
   ]
  },
  {
   "cell_type": "code",
   "execution_count": 68,
   "id": "65e1e367",
   "metadata": {},
   "outputs": [
    {
     "data": {
      "text/plain": [
       "array([   2.        ,    2.36734694,    2.73469388, 2000.        ,\n",
       "       2000.        , 2000.        , 2000.        , 2000.        ,\n",
       "       2000.        , 2000.        , 2000.        , 2000.        ,\n",
       "       2000.        , 2000.        , 2000.        , 2000.        ,\n",
       "       2000.        , 2000.        , 2000.        , 2000.        ,\n",
       "       2000.        , 2000.        , 2000.        , 2000.        ,\n",
       "       2000.        , 2000.        , 2000.        , 2000.        ,\n",
       "       2000.        , 2000.        , 2000.        , 2000.        ,\n",
       "       2000.        , 2000.        , 2000.        , 2000.        ,\n",
       "       2000.        , 2000.        , 2000.        , 2000.        ,\n",
       "       2000.        , 2000.        , 2000.        , 2000.        ,\n",
       "       2000.        , 2000.        , 2000.        , 2000.        ,\n",
       "       2000.        , 2000.        ])"
      ]
     },
     "execution_count": 68,
     "metadata": {},
     "output_type": "execute_result"
    }
   ],
   "source": [
    "arr*2  #to multiply every every element with 2 in array"
   ]
  }
 ],
 "metadata": {
  "kernelspec": {
   "display_name": "Python 3 (ipykernel)",
   "language": "python",
   "name": "python3"
  },
  "language_info": {
   "codemirror_mode": {
    "name": "ipython",
    "version": 3
   },
   "file_extension": ".py",
   "mimetype": "text/x-python",
   "name": "python",
   "nbconvert_exporter": "python",
   "pygments_lexer": "ipython3",
   "version": "3.9.12"
  }
 },
 "nbformat": 4,
 "nbformat_minor": 5
}
