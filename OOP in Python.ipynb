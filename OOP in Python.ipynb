{
 "cells": [
  {
   "cell_type": "markdown",
   "id": "f8cf438d",
   "metadata": {},
   "source": [
    "#  OOP"
   ]
  },
  {
   "cell_type": "code",
   "execution_count": 2,
   "id": "b8e5fa38",
   "metadata": {},
   "outputs": [],
   "source": [
    "class Car:\n",
    "    pass  # for creating an empty class"
   ]
  },
  {
   "cell_type": "code",
   "execution_count": 3,
   "id": "ac29dcc4",
   "metadata": {},
   "outputs": [],
   "source": [
    "car1 = Car()"
   ]
  },
  {
   "cell_type": "code",
   "execution_count": 4,
   "id": "1e525ad7",
   "metadata": {},
   "outputs": [
    {
     "data": {
      "text/plain": [
       "<__main__.Car at 0x1f49ca658b0>"
      ]
     },
     "execution_count": 4,
     "metadata": {},
     "output_type": "execute_result"
    }
   ],
   "source": [
    "car1  # an object of class car has been created"
   ]
  },
  {
   "cell_type": "code",
   "execution_count": 5,
   "id": "88c3ca14",
   "metadata": {},
   "outputs": [],
   "source": [
    "car1.windows = 5\n",
    "car1.doors = 4"
   ]
  },
  {
   "cell_type": "code",
   "execution_count": 6,
   "id": "5b53fec9",
   "metadata": {},
   "outputs": [
    {
     "name": "stdout",
     "output_type": "stream",
     "text": [
      "4\n"
     ]
    }
   ],
   "source": [
    "print(car1.doors)"
   ]
  },
  {
   "cell_type": "code",
   "execution_count": 7,
   "id": "9be75e50",
   "metadata": {},
   "outputs": [],
   "source": [
    "car2 = Car()\n",
    "car2.windows = 3"
   ]
  },
  {
   "cell_type": "code",
   "execution_count": 8,
   "id": "7995fd68",
   "metadata": {},
   "outputs": [
    {
     "name": "stdout",
     "output_type": "stream",
     "text": [
      "3\n"
     ]
    }
   ],
   "source": [
    "print(car2.windows)"
   ]
  },
  {
   "cell_type": "code",
   "execution_count": 19,
   "id": "d6a844c7",
   "metadata": {},
   "outputs": [],
   "source": [
    "class Cars:\n",
    "    def __init__(self, window, door, enginetype):\n",
    "        self.windows = window\n",
    "        self.doors = door\n",
    "        self.enginetype = enginetype\n",
    "    \n",
    "    def self_driving(self):\n",
    "        return 'this is a {} car'.format(self.enginetype)\n",
    "        \n",
    "    "
   ]
  },
  {
   "cell_type": "code",
   "execution_count": 20,
   "id": "04335987",
   "metadata": {},
   "outputs": [
    {
     "name": "stdout",
     "output_type": "stream",
     "text": [
      "4\n"
     ]
    }
   ],
   "source": [
    "car3= Cars(4,5,'petrol')\n",
    "print(car3.windows)"
   ]
  },
  {
   "cell_type": "code",
   "execution_count": 21,
   "id": "8b60a511",
   "metadata": {},
   "outputs": [
    {
     "data": {
      "text/plain": [
       "'this is a petrol car'"
      ]
     },
     "execution_count": 21,
     "metadata": {},
     "output_type": "execute_result"
    }
   ],
   "source": [
    "car3.self_driving() # reuse class for adding a new function that is self driving"
   ]
  },
  {
   "cell_type": "code",
   "execution_count": 15,
   "id": "38b29fc2",
   "metadata": {},
   "outputs": [
    {
     "name": "stdout",
     "output_type": "stream",
     "text": [
      "petrol\n"
     ]
    }
   ],
   "source": [
    "print(car3.enginetype)"
   ]
  },
  {
   "cell_type": "code",
   "execution_count": null,
   "id": "18569219",
   "metadata": {},
   "outputs": [],
   "source": []
  },
  {
   "cell_type": "code",
   "execution_count": null,
   "id": "2a8bbb98",
   "metadata": {},
   "outputs": [],
   "source": []
  },
  {
   "cell_type": "code",
   "execution_count": null,
   "id": "0c9e9a47",
   "metadata": {},
   "outputs": [],
   "source": []
  },
  {
   "cell_type": "code",
   "execution_count": null,
   "id": "e894b118",
   "metadata": {},
   "outputs": [],
   "source": []
  },
  {
   "cell_type": "code",
   "execution_count": null,
   "id": "3503cf32",
   "metadata": {},
   "outputs": [],
   "source": []
  },
  {
   "cell_type": "code",
   "execution_count": null,
   "id": "b7d46b71",
   "metadata": {},
   "outputs": [],
   "source": []
  }
 ],
 "metadata": {
  "kernelspec": {
   "display_name": "Python 3 (ipykernel)",
   "language": "python",
   "name": "python3"
  },
  "language_info": {
   "codemirror_mode": {
    "name": "ipython",
    "version": 3
   },
   "file_extension": ".py",
   "mimetype": "text/x-python",
   "name": "python",
   "nbconvert_exporter": "python",
   "pygments_lexer": "ipython3",
   "version": "3.9.12"
  }
 },
 "nbformat": 4,
 "nbformat_minor": 5
}
