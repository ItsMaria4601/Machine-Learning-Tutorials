{
 "cells": [
  {
   "cell_type": "markdown",
   "id": "4f60655b",
   "metadata": {},
   "source": [
    "## Functions in Python"
   ]
  },
  {
   "cell_type": "code",
   "execution_count": 1,
   "id": "df54e535",
   "metadata": {},
   "outputs": [],
   "source": [
    "def even_odd(number):\n",
    "    if number%2==0:\n",
    "        print('Number is even')\n",
    "    else:\n",
    "        print('Number is odd')"
   ]
  },
  {
   "cell_type": "code",
   "execution_count": 2,
   "id": "24b4716e",
   "metadata": {},
   "outputs": [
    {
     "name": "stdout",
     "output_type": "stream",
     "text": [
      "Number is even\n"
     ]
    }
   ],
   "source": [
    "even_odd(56)"
   ]
  },
  {
   "cell_type": "markdown",
   "id": "9be7ac30",
   "metadata": {},
   "source": [
    "### print vs return"
   ]
  },
  {
   "cell_type": "code",
   "execution_count": 3,
   "id": "56bcd6d9",
   "metadata": {},
   "outputs": [],
   "source": [
    "def hello_world():\n",
    "    print('Hello world') #this was the print function"
   ]
  },
  {
   "cell_type": "code",
   "execution_count": 4,
   "id": "fd7ad231",
   "metadata": {},
   "outputs": [
    {
     "name": "stdout",
     "output_type": "stream",
     "text": [
      "Hello world\n"
     ]
    }
   ],
   "source": [
    "hello_world()"
   ]
  },
  {
   "cell_type": "code",
   "execution_count": 6,
   "id": "192f6927",
   "metadata": {},
   "outputs": [],
   "source": [
    "def add_number(num1, num2):\n",
    "    return num1+num2"
   ]
  },
  {
   "cell_type": "code",
   "execution_count": 7,
   "id": "f222d7e0",
   "metadata": {},
   "outputs": [
    {
     "data": {
      "text/plain": [
       "89"
      ]
     },
     "execution_count": 7,
     "metadata": {},
     "output_type": "execute_result"
    }
   ],
   "source": [
    "val = add_number(33,56)\n",
    "val #this was a variable being returned from the function"
   ]
  },
  {
   "cell_type": "code",
   "execution_count": 8,
   "id": "772e00de",
   "metadata": {},
   "outputs": [],
   "source": [
    "#name is positional argument\n",
    "#age = 22 is keyword argument\n",
    "\n",
    "def hello(name, age=22):         #if we dont want to define the age first we can define it in the function\n",
    "      print('My name is {} and age is {}'.format(name,age))  "
   ]
  },
  {
   "cell_type": "code",
   "execution_count": 12,
   "id": "d9689672",
   "metadata": {},
   "outputs": [
    {
     "name": "stdout",
     "output_type": "stream",
     "text": [
      "My name is maria and age is 22\n"
     ]
    }
   ],
   "source": [
    "hello('maria') # since the age was already defined so it will take it as 22"
   ]
  },
  {
   "cell_type": "code",
   "execution_count": 13,
   "id": "d4fd2e99",
   "metadata": {},
   "outputs": [],
   "source": [
    "def hello(*args, **kwargs):   #args --> positional arguments\n",
    "                              #kwargs --> keyword arguments\n",
    "    print(args)\n",
    "    print(kwargs)"
   ]
  },
  {
   "cell_type": "code",
   "execution_count": 14,
   "id": "f9ed577b",
   "metadata": {},
   "outputs": [
    {
     "name": "stdout",
     "output_type": "stream",
     "text": [
      "('maria', 'asad')\n",
      "{'age': 22, 'dob': 2001}\n"
     ]
    }
   ],
   "source": [
    "hello('maria','asad',age=22,dob=2001)  #this will print the positional arguments and keyword arguments seperately "
   ]
  },
  {
   "cell_type": "code",
   "execution_count": 17,
   "id": "57d0d3f1",
   "metadata": {},
   "outputs": [
    {
     "name": "stdout",
     "output_type": "stream",
     "text": [
      "('maria', 'asad')\n",
      "{'age': 23, 'dob': 2001}\n"
     ]
    }
   ],
   "source": [
    "#3rd method is to make list and dictionaries\n",
    "\n",
    "list = ['maria','asad']\n",
    "dictionary = {'age':23, 'dob':2001}\n",
    "\n",
    "hello (*list, **dictionary)  #it will indicate that the list as args and dictionary as kwargs\n"
   ]
  },
  {
   "cell_type": "markdown",
   "id": "831d60ed",
   "metadata": {},
   "source": [
    "### finding even odd sum multiple outputs from a function"
   ]
  },
  {
   "cell_type": "code",
   "execution_count": 18,
   "id": "dbd7ac78",
   "metadata": {},
   "outputs": [],
   "source": [
    "list = [1,2,3,4,5,6,7,8,9]"
   ]
  },
  {
   "cell_type": "code",
   "execution_count": 19,
   "id": "19dce763",
   "metadata": {},
   "outputs": [],
   "source": [
    "def even_odd_sum(list):\n",
    "    even_sum=0\n",
    "    odd_sum=0\n",
    "    for i in list:\n",
    "        if i % 2 == 0:    # will find the even numbers from the list and add it\n",
    "            even_sum += i\n",
    "        else:\n",
    "            odd_sum += i  # will find odd numbers from the list and add it\n",
    "    return even_sum, odd_sum"
   ]
  },
  {
   "cell_type": "code",
   "execution_count": 21,
   "id": "c5f38b48",
   "metadata": {},
   "outputs": [
    {
     "data": {
      "text/plain": [
       "(20, 25)"
      ]
     },
     "execution_count": 21,
     "metadata": {},
     "output_type": "execute_result"
    }
   ],
   "source": [
    "even_odd_sum(list)"
   ]
  },
  {
   "cell_type": "markdown",
   "id": "8379b82a",
   "metadata": {},
   "source": [
    "#  Lambda Functions"
   ]
  },
  {
   "cell_type": "markdown",
   "id": "0a04c725",
   "metadata": {},
   "source": [
    "anonymous function means no name"
   ]
  },
  {
   "cell_type": "code",
   "execution_count": 22,
   "id": "6a899aec",
   "metadata": {},
   "outputs": [],
   "source": [
    "# we are making a normal function here first \n",
    "\n",
    "def addition (a,b):\n",
    "    return a+b"
   ]
  },
  {
   "cell_type": "code",
   "execution_count": 23,
   "id": "579fe850",
   "metadata": {},
   "outputs": [
    {
     "data": {
      "text/plain": [
       "11"
      ]
     },
     "execution_count": 23,
     "metadata": {},
     "output_type": "execute_result"
    }
   ],
   "source": [
    "addition(5,6)"
   ]
  },
  {
   "cell_type": "code",
   "execution_count": 25,
   "id": "e2bd79da",
   "metadata": {},
   "outputs": [],
   "source": [
    "# now making the normal funtion to lambda function \n",
    "\n",
    "addition = lambda a,b:a+b"
   ]
  },
  {
   "cell_type": "code",
   "execution_count": 26,
   "id": "8281427b",
   "metadata": {},
   "outputs": [
    {
     "data": {
      "text/plain": [
       "7"
      ]
     },
     "execution_count": 26,
     "metadata": {},
     "output_type": "execute_result"
    }
   ],
   "source": [
    "addition (3,4)"
   ]
  },
  {
   "cell_type": "code",
   "execution_count": 28,
   "id": "75c4a055",
   "metadata": {},
   "outputs": [],
   "source": [
    "# check for even number \n",
    "\n",
    "even = lambda a : a%2 == 0"
   ]
  },
  {
   "cell_type": "code",
   "execution_count": 29,
   "id": "80ad18b0",
   "metadata": {},
   "outputs": [
    {
     "data": {
      "text/plain": [
       "True"
      ]
     },
     "execution_count": 29,
     "metadata": {},
     "output_type": "execute_result"
    }
   ],
   "source": [
    "even (34) # will return a boolean value"
   ]
  },
  {
   "cell_type": "code",
   "execution_count": 30,
   "id": "c686ff39",
   "metadata": {},
   "outputs": [],
   "source": [
    "add3 = lambda a,b,c:a+b+c"
   ]
  },
  {
   "cell_type": "code",
   "execution_count": 31,
   "id": "dd93cc64",
   "metadata": {},
   "outputs": [
    {
     "data": {
      "text/plain": [
       "12"
      ]
     },
     "execution_count": 31,
     "metadata": {},
     "output_type": "execute_result"
    }
   ],
   "source": [
    "add3(3,4,5)"
   ]
  },
  {
   "cell_type": "markdown",
   "id": "75956c71",
   "metadata": {},
   "source": [
    "# Map functions"
   ]
  },
  {
   "cell_type": "markdown",
   "id": "93cf5080",
   "metadata": {},
   "source": [
    "works as an iterator like loops"
   ]
  },
  {
   "cell_type": "markdown",
   "id": "21187105",
   "metadata": {},
   "source": [
    "map() is an alternative to 'for' loops in python. filter() function is mainly used to sort the lists of items based on the condition of the function. "
   ]
  },
  {
   "cell_type": "code",
   "execution_count": 1,
   "id": "fa0f118c",
   "metadata": {},
   "outputs": [],
   "source": [
    "def even_odd(num):\n",
    "    if num % 2 == 0:\n",
    "        return 'The number {} is even'.format(num)\n",
    "    else:\n",
    "        return 'The number {} is odd'.format(num)"
   ]
  },
  {
   "cell_type": "code",
   "execution_count": 2,
   "id": "fc0d27a3",
   "metadata": {},
   "outputs": [
    {
     "data": {
      "text/plain": [
       "'The number 24 is even'"
      ]
     },
     "execution_count": 2,
     "metadata": {},
     "output_type": "execute_result"
    }
   ],
   "source": [
    "even_odd(24)"
   ]
  },
  {
   "cell_type": "code",
   "execution_count": 3,
   "id": "59dddf83",
   "metadata": {},
   "outputs": [],
   "source": [
    "mylist = [1,3,4,5,6,7,7,8,6,73,423,5,56,543,6,6,5465,46,543,24,3,6,7,88,8768,686,89]"
   ]
  },
  {
   "cell_type": "code",
   "execution_count": 5,
   "id": "85b783da",
   "metadata": {},
   "outputs": [
    {
     "data": {
      "text/plain": [
       "['The number 1 is odd',\n",
       " 'The number 3 is odd',\n",
       " 'The number 4 is even',\n",
       " 'The number 5 is odd',\n",
       " 'The number 6 is even',\n",
       " 'The number 7 is odd',\n",
       " 'The number 7 is odd',\n",
       " 'The number 8 is even',\n",
       " 'The number 6 is even',\n",
       " 'The number 73 is odd',\n",
       " 'The number 423 is odd',\n",
       " 'The number 5 is odd',\n",
       " 'The number 56 is even',\n",
       " 'The number 543 is odd',\n",
       " 'The number 6 is even',\n",
       " 'The number 6 is even',\n",
       " 'The number 5465 is odd',\n",
       " 'The number 46 is even',\n",
       " 'The number 543 is odd',\n",
       " 'The number 24 is even',\n",
       " 'The number 3 is odd',\n",
       " 'The number 6 is even',\n",
       " 'The number 7 is odd',\n",
       " 'The number 88 is even',\n",
       " 'The number 8768 is even',\n",
       " 'The number 686 is even',\n",
       " 'The number 89 is odd']"
      ]
     },
     "execution_count": 5,
     "metadata": {},
     "output_type": "execute_result"
    }
   ],
   "source": [
    "list(map(even_odd,mylist)) # to loop over the list"
   ]
  },
  {
   "cell_type": "markdown",
   "id": "cd125eb4",
   "metadata": {},
   "source": [
    "# Filter Functions"
   ]
  },
  {
   "cell_type": "markdown",
   "id": "9744f8ce",
   "metadata": {},
   "source": [
    "Python's filter() is a built-in function that allows you to process an iterable and extract those items that satisfy a given condition."
   ]
  },
  {
   "cell_type": "code",
   "execution_count": 6,
   "id": "6909d7ad",
   "metadata": {},
   "outputs": [],
   "source": [
    "def even(num):\n",
    "    if num%2==0:\n",
    "        return True\n",
    "        "
   ]
  },
  {
   "cell_type": "code",
   "execution_count": 7,
   "id": "0cafc89e",
   "metadata": {},
   "outputs": [],
   "source": [
    "lst = [1,2,3,4,5,6,7,8,9,0]"
   ]
  },
  {
   "cell_type": "code",
   "execution_count": 8,
   "id": "c550f1f1",
   "metadata": {},
   "outputs": [
    {
     "data": {
      "text/plain": [
       "[2, 4, 6, 8, 0]"
      ]
     },
     "execution_count": 8,
     "metadata": {},
     "output_type": "execute_result"
    }
   ],
   "source": [
    "list(filter(even,lst)) #will take a function arg and a list arg"
   ]
  },
  {
   "cell_type": "code",
   "execution_count": 10,
   "id": "4299cd2b",
   "metadata": {},
   "outputs": [
    {
     "data": {
      "text/plain": [
       "[2, 4, 6, 8, 0]"
      ]
     },
     "execution_count": 10,
     "metadata": {},
     "output_type": "execute_result"
    }
   ],
   "source": [
    "list(filter(lambda num:num%2==0, lst))  # filter by using a lambda function which satisfies the odd condition only that numbers will be printed"
   ]
  },
  {
   "cell_type": "code",
   "execution_count": 11,
   "id": "bfbc5c7e",
   "metadata": {},
   "outputs": [
    {
     "data": {
      "text/plain": [
       "[False, True, False, True, False, True, False, True, False, True]"
      ]
     },
     "execution_count": 11,
     "metadata": {},
     "output_type": "execute_result"
    }
   ],
   "source": [
    "list(map(lambda num:num%2==0, lst)) # will return every value in list with because it works as loop for every item"
   ]
  }
 ],
 "metadata": {
  "kernelspec": {
   "display_name": "Python 3 (ipykernel)",
   "language": "python",
   "name": "python3"
  },
  "language_info": {
   "codemirror_mode": {
    "name": "ipython",
    "version": 3
   },
   "file_extension": ".py",
   "mimetype": "text/x-python",
   "name": "python",
   "nbconvert_exporter": "python",
   "pygments_lexer": "ipython3",
   "version": "3.9.12"
  }
 },
 "nbformat": 4,
 "nbformat_minor": 5
}
