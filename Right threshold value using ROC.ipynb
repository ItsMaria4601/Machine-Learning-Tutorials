{
 "cells": [
  {
   "cell_type": "code",
   "execution_count": 66,
   "id": "c3baaaf1",
   "metadata": {},
   "outputs": [],
   "source": [
    "import numpy as np\n",
    "import pandas as pd\n",
    "import matplotlib.pyplot as plt\n",
    "import seaborn as sns\n",
    "from sklearn.datasets import make_classification"
   ]
  },
  {
   "cell_type": "markdown",
   "id": "07513a99",
   "metadata": {},
   "source": [
    "making a new random classification dataset of our own where samples are rows classes are output labels weights are assignend to keep the data balanced "
   ]
  },
  {
   "cell_type": "code",
   "execution_count": 67,
   "id": "82ea543f",
   "metadata": {},
   "outputs": [],
   "source": [
    "from sklearn.model_selection import train_test_split\n",
    "\n",
    "X, y = make_classification(n_samples = 2000 , n_classes = 2, weights = [1,1], random_state=1)  #weights are assigned so that it becomes a balanced dataset"
   ]
  },
  {
   "cell_type": "code",
   "execution_count": 68,
   "id": "29a8e2ec",
   "metadata": {},
   "outputs": [
    {
     "data": {
      "text/plain": [
       "(2000, 20)"
      ]
     },
     "execution_count": 68,
     "metadata": {},
     "output_type": "execute_result"
    }
   ],
   "source": [
    "X.shape  # 2000 rows and 20 features"
   ]
  },
  {
   "cell_type": "code",
   "execution_count": 69,
   "id": "05a7d73b",
   "metadata": {},
   "outputs": [
    {
     "data": {
      "text/plain": [
       "(2000,)"
      ]
     },
     "execution_count": 69,
     "metadata": {},
     "output_type": "execute_result"
    }
   ],
   "source": [
    "y.shape"
   ]
  },
  {
   "cell_type": "code",
   "execution_count": 70,
   "id": "c6d90159",
   "metadata": {},
   "outputs": [],
   "source": [
    "X_train, X_test, y_train, y_test = train_test_split(X, y, test_size=0.3, random_state = 1)"
   ]
  },
  {
   "cell_type": "code",
   "execution_count": 71,
   "id": "b02b7804",
   "metadata": {},
   "outputs": [],
   "source": [
    "from sklearn.metrics import roc_curve\n",
    "from sklearn.metrics import roc_auc_score"
   ]
  },
  {
   "cell_type": "markdown",
   "id": "e09b6594",
   "metadata": {},
   "source": [
    "# Random forest"
   ]
  },
  {
   "cell_type": "code",
   "execution_count": 72,
   "id": "f4a12f96",
   "metadata": {},
   "outputs": [
    {
     "name": "stdout",
     "output_type": "stream",
     "text": [
      "RF train roc score 1.0\n"
     ]
    }
   ],
   "source": [
    "from sklearn.ensemble import RandomForestClassifier\n",
    "\n",
    "rf = RandomForestClassifier()\n",
    "rf.fit(X_train, y_train)\n",
    "ytrain_pred = rf.predict_proba(X_train)\n",
    "print('RF train roc score {}'.format(roc_auc_score(y_train,ytrain_pred[:,1]))) #we are only taking the last column i.e 0 then we will apply threshold on that column to check whether the values are less or greater than 0.5 that is why we wont be needing our first column because the work can be done on either of two\n"
   ]
  },
  {
   "cell_type": "markdown",
   "id": "24f6ec0b",
   "metadata": {},
   "source": [
    "predict_proba() is used to predict the probabiltites of the classes i.e what is the probabilty that it belongs to class 1 or class 0"
   ]
  },
  {
   "cell_type": "code",
   "execution_count": 73,
   "id": "24b7b899",
   "metadata": {},
   "outputs": [
    {
     "data": {
      "text/plain": [
       "array([[1.  , 0.  ],\n",
       "       [0.98, 0.02],\n",
       "       [0.01, 0.99],\n",
       "       ...,\n",
       "       [0.98, 0.02],\n",
       "       [1.  , 0.  ],\n",
       "       [0.25, 0.75]])"
      ]
     },
     "execution_count": 73,
     "metadata": {},
     "output_type": "execute_result"
    }
   ],
   "source": [
    "ytrain_pred #we have columns for class 1 and 0 respectively"
   ]
  },
  {
   "cell_type": "markdown",
   "id": "986d5df9",
   "metadata": {},
   "source": [
    "if value is greater than 0 consider it as 1 and if less than 0 consider it as 0"
   ]
  },
  {
   "cell_type": "code",
   "execution_count": 74,
   "id": "f4f860cc",
   "metadata": {},
   "outputs": [
    {
     "name": "stdout",
     "output_type": "stream",
     "text": [
      "RF test roc score 0.981311111111111\n"
     ]
    }
   ],
   "source": [
    "ytest_pred = rf.predict_proba(X_test)\n",
    "print('RF test roc score {}'.format(roc_auc_score(y_test,ytest_pred[:,1]))) "
   ]
  },
  {
   "cell_type": "code",
   "execution_count": 75,
   "id": "ab82cb13",
   "metadata": {},
   "outputs": [
    {
     "data": {
      "text/plain": [
       "array([[0.01, 0.99],\n",
       "       [0.98, 0.02],\n",
       "       [0.02, 0.98],\n",
       "       ...,\n",
       "       [0.03, 0.97],\n",
       "       [0.99, 0.01],\n",
       "       [0.  , 1.  ]])"
      ]
     },
     "execution_count": 75,
     "metadata": {},
     "output_type": "execute_result"
    }
   ],
   "source": [
    "ytest_pred"
   ]
  },
  {
   "cell_type": "markdown",
   "id": "65f2eea9",
   "metadata": {},
   "source": [
    "# Logistic Regression"
   ]
  },
  {
   "cell_type": "code",
   "execution_count": 76,
   "id": "f085e780",
   "metadata": {},
   "outputs": [
    {
     "name": "stdout",
     "output_type": "stream",
     "text": [
      "RF train roc score 0.9863568922694498\n",
      "RF test roc score 0.9885777777777777\n"
     ]
    }
   ],
   "source": [
    "from sklearn.linear_model import LogisticRegression\n",
    "\n",
    "lr = LogisticRegression()\n",
    "lr.fit(X_train, y_train)\n",
    "\n",
    "#for train data\n",
    "\n",
    "ytrain_pred = lr.predict_proba(X_train)\n",
    "print('RF train roc score {}'.format(roc_auc_score(y_train,ytrain_pred[:,1]))) #we are only taking the last column i.e 0 then we will apply threshold on that column to check whether the values are less or greater than 0.5 that is why we wont be needing our first column because the work can be done on either of two\n",
    "\n",
    "#for test data\n",
    "\n",
    "ytest_pred = lr.predict_proba(X_test)\n",
    "print('RF test roc score {}'.format(roc_auc_score(y_test,ytest_pred[:,1])))"
   ]
  },
  {
   "cell_type": "markdown",
   "id": "c041cf28",
   "metadata": {},
   "source": [
    "# KNN Classifier"
   ]
  },
  {
   "cell_type": "code",
   "execution_count": 77,
   "id": "2c7f062b",
   "metadata": {},
   "outputs": [
    {
     "name": "stdout",
     "output_type": "stream",
     "text": [
      "RF train roc score 0.981670071491109\n",
      "RF test roc score 0.9426111111111111\n"
     ]
    }
   ],
   "source": [
    "from sklearn.neighbors import KNeighborsClassifier\n",
    "\n",
    "knn = KNeighborsClassifier()\n",
    "knn.fit(X_train, y_train)\n",
    "\n",
    "#for train data\n",
    "\n",
    "ytrain_pred = knn.predict_proba(X_train)\n",
    "print('RF train roc score {}'.format(roc_auc_score(y_train,ytrain_pred[:,1]))) #we are only taking the last column i.e 0 then we will apply threshold on that column to check whether the values are less or greater than 0.5 that is why we wont be needing our first column because the work can be done on either of two\n",
    "\n",
    "#for test data\n",
    "\n",
    "ytest_pred = knn.predict_proba(X_test)\n",
    "print('RF test roc score {}'.format(roc_auc_score(y_test,ytest_pred[:,1])))"
   ]
  },
  {
   "cell_type": "markdown",
   "id": "8a12b64b",
   "metadata": {},
   "source": [
    "# ADABoost Classifier"
   ]
  },
  {
   "cell_type": "code",
   "execution_count": 47,
   "id": "9c5f1d30",
   "metadata": {},
   "outputs": [
    {
     "name": "stdout",
     "output_type": "stream",
     "text": [
      "RF train roc score 0.9975081174960356\n",
      "RF test roc score 0.9826111111111111\n"
     ]
    }
   ],
   "source": [
    "from sklearn.ensemble import AdaBoostClassifier\n",
    "\n",
    "ada = AdaBoostClassifier()\n",
    "ada.fit(X_train, y_train)\n",
    "\n",
    "#for train data\n",
    "\n",
    "ytrain_pred = ada.predict_proba(X_train)\n",
    "print('RF train roc score {}'.format(roc_auc_score(y_train,ytrain_pred[:,1]))) #we are only taking the last column i.e 0 then we will apply threshold on that column to check whether the values are less or greater than 0.5 that is why we wont be needing our first column because the work can be done on either of two\n",
    "\n",
    "#for test data\n",
    "\n",
    "ytest_pred = ada.predict_proba(X_test)\n",
    "print('RF test roc score {}'.format(roc_auc_score(y_test,ytest_pred[:,1])))"
   ]
  },
  {
   "cell_type": "markdown",
   "id": "ffbfd11e",
   "metadata": {},
   "source": [
    "### Focus on selecting the best threshold value for max accuracy"
   ]
  },
  {
   "cell_type": "code",
   "execution_count": 78,
   "id": "ed2fca3f",
   "metadata": {},
   "outputs": [
    {
     "data": {
      "text/plain": [
       "[0      0.99\n",
       " 1      0.02\n",
       " 2      0.98\n",
       " 3      0.90\n",
       " 4      0.52\n",
       "        ... \n",
       " 595    0.02\n",
       " 596    0.01\n",
       " 597    0.97\n",
       " 598    0.01\n",
       " 599    1.00\n",
       " Length: 600, dtype: float64,\n",
       " 0      0.991861\n",
       " 1      0.000008\n",
       " 2      0.966929\n",
       " 3      0.761539\n",
       " 4      0.779443\n",
       "          ...   \n",
       " 595    0.024239\n",
       " 596    0.000003\n",
       " 597    0.984385\n",
       " 598    0.001147\n",
       " 599    0.989540\n",
       " Length: 600, dtype: float64,\n",
       " 0      0.559186\n",
       " 1      0.463282\n",
       " 2      0.538202\n",
       " 3      0.509875\n",
       " 4      0.490344\n",
       "          ...   \n",
       " 595    0.461121\n",
       " 596    0.441377\n",
       " 597    0.532403\n",
       " 598    0.441720\n",
       " 599    0.559890\n",
       " Length: 600, dtype: float64,\n",
       " 0      1.0\n",
       " 1      0.0\n",
       " 2      0.8\n",
       " 3      0.8\n",
       " 4      0.4\n",
       "       ... \n",
       " 595    0.0\n",
       " 596    0.0\n",
       " 597    1.0\n",
       " 598    0.2\n",
       " 599    0.8\n",
       " Length: 600, dtype: float64]"
      ]
     },
     "execution_count": 78,
     "metadata": {},
     "output_type": "execute_result"
    }
   ],
   "source": [
    "pred = []\n",
    "\n",
    "#appending all the probabilites of all the models in  a list by taking the second column probability\n",
    "\n",
    "for model in [rf,lr,ada,knn]:\n",
    "    pred.append(pd.Series(model.predict_proba(X_test)[:,1]))  \n",
    "\n",
    "pred\n"
   ]
  },
  {
   "cell_type": "code",
   "execution_count": 79,
   "id": "b15e2e9b",
   "metadata": {},
   "outputs": [
    {
     "data": {
      "text/html": [
       "<div>\n",
       "<style scoped>\n",
       "    .dataframe tbody tr th:only-of-type {\n",
       "        vertical-align: middle;\n",
       "    }\n",
       "\n",
       "    .dataframe tbody tr th {\n",
       "        vertical-align: top;\n",
       "    }\n",
       "\n",
       "    .dataframe thead th {\n",
       "        text-align: right;\n",
       "    }\n",
       "</style>\n",
       "<table border=\"1\" class=\"dataframe\">\n",
       "  <thead>\n",
       "    <tr style=\"text-align: right;\">\n",
       "      <th></th>\n",
       "      <th>0</th>\n",
       "      <th>1</th>\n",
       "      <th>2</th>\n",
       "      <th>3</th>\n",
       "    </tr>\n",
       "  </thead>\n",
       "  <tbody>\n",
       "    <tr>\n",
       "      <th>0</th>\n",
       "      <td>0.99</td>\n",
       "      <td>0.991861</td>\n",
       "      <td>0.559186</td>\n",
       "      <td>1.0</td>\n",
       "    </tr>\n",
       "    <tr>\n",
       "      <th>1</th>\n",
       "      <td>0.02</td>\n",
       "      <td>0.000008</td>\n",
       "      <td>0.463282</td>\n",
       "      <td>0.0</td>\n",
       "    </tr>\n",
       "    <tr>\n",
       "      <th>2</th>\n",
       "      <td>0.98</td>\n",
       "      <td>0.966929</td>\n",
       "      <td>0.538202</td>\n",
       "      <td>0.8</td>\n",
       "    </tr>\n",
       "    <tr>\n",
       "      <th>3</th>\n",
       "      <td>0.90</td>\n",
       "      <td>0.761539</td>\n",
       "      <td>0.509875</td>\n",
       "      <td>0.8</td>\n",
       "    </tr>\n",
       "    <tr>\n",
       "      <th>4</th>\n",
       "      <td>0.52</td>\n",
       "      <td>0.779443</td>\n",
       "      <td>0.490344</td>\n",
       "      <td>0.4</td>\n",
       "    </tr>\n",
       "    <tr>\n",
       "      <th>...</th>\n",
       "      <td>...</td>\n",
       "      <td>...</td>\n",
       "      <td>...</td>\n",
       "      <td>...</td>\n",
       "    </tr>\n",
       "    <tr>\n",
       "      <th>595</th>\n",
       "      <td>0.02</td>\n",
       "      <td>0.024239</td>\n",
       "      <td>0.461121</td>\n",
       "      <td>0.0</td>\n",
       "    </tr>\n",
       "    <tr>\n",
       "      <th>596</th>\n",
       "      <td>0.01</td>\n",
       "      <td>0.000003</td>\n",
       "      <td>0.441377</td>\n",
       "      <td>0.0</td>\n",
       "    </tr>\n",
       "    <tr>\n",
       "      <th>597</th>\n",
       "      <td>0.97</td>\n",
       "      <td>0.984385</td>\n",
       "      <td>0.532403</td>\n",
       "      <td>1.0</td>\n",
       "    </tr>\n",
       "    <tr>\n",
       "      <th>598</th>\n",
       "      <td>0.01</td>\n",
       "      <td>0.001147</td>\n",
       "      <td>0.441720</td>\n",
       "      <td>0.2</td>\n",
       "    </tr>\n",
       "    <tr>\n",
       "      <th>599</th>\n",
       "      <td>1.00</td>\n",
       "      <td>0.989540</td>\n",
       "      <td>0.559890</td>\n",
       "      <td>0.8</td>\n",
       "    </tr>\n",
       "  </tbody>\n",
       "</table>\n",
       "<p>600 rows × 4 columns</p>\n",
       "</div>"
      ],
      "text/plain": [
       "        0         1         2    3\n",
       "0    0.99  0.991861  0.559186  1.0\n",
       "1    0.02  0.000008  0.463282  0.0\n",
       "2    0.98  0.966929  0.538202  0.8\n",
       "3    0.90  0.761539  0.509875  0.8\n",
       "4    0.52  0.779443  0.490344  0.4\n",
       "..    ...       ...       ...  ...\n",
       "595  0.02  0.024239  0.461121  0.0\n",
       "596  0.01  0.000003  0.441377  0.0\n",
       "597  0.97  0.984385  0.532403  1.0\n",
       "598  0.01  0.001147  0.441720  0.2\n",
       "599  1.00  0.989540  0.559890  0.8\n",
       "\n",
       "[600 rows x 4 columns]"
      ]
     },
     "execution_count": 79,
     "metadata": {},
     "output_type": "execute_result"
    }
   ],
   "source": [
    "#concatenating all the series into the dataframe where the columns of df represent the models' name for eg rf=0, lr=1, ada=2, knn=3 \n",
    "\n",
    "df_final = pd.concat(pred, axis=1) \n",
    "df_final"
   ]
  },
  {
   "cell_type": "code",
   "execution_count": 87,
   "id": "0be594d4",
   "metadata": {},
   "outputs": [
    {
     "data": {
      "text/plain": [
       "0      0.885262\n",
       "1      0.120823\n",
       "2      0.821283\n",
       "3      0.742853\n",
       "4      0.547447\n",
       "         ...   \n",
       "595    0.126340\n",
       "596    0.112845\n",
       "597    0.871697\n",
       "598    0.163217\n",
       "599    0.837357\n",
       "Length: 600, dtype: float64"
      ]
     },
     "execution_count": 87,
     "metadata": {},
     "output_type": "execute_result"
    }
   ],
   "source": [
    "df_final_mean = df_final.mean(axis=1) #taking mean on the axis\n",
    "df_final_mean"
   ]
  },
  {
   "cell_type": "code",
   "execution_count": 88,
   "id": "42d6e40c",
   "metadata": {},
   "outputs": [
    {
     "name": "stdout",
     "output_type": "stream",
     "text": [
      "Test ROC Score 0.9846333333333334\n"
     ]
    }
   ],
   "source": [
    "print('Test ROC Score {}'.format(roc_auc_score(y_test,df_final_mean)))"
   ]
  },
  {
   "cell_type": "markdown",
   "id": "d5402ad1",
   "metadata": {},
   "source": [
    "## Calculate the ROC Curve"
   ]
  },
  {
   "cell_type": "code",
   "execution_count": 89,
   "id": "f57ba955",
   "metadata": {},
   "outputs": [
    {
     "data": {
      "text/plain": [
       "array([1.9134413 , 0.9134413 , 0.90656694, 0.90577475, 0.81198866,\n",
       "       0.81162833, 0.79380736, 0.7930558 , 0.78140513, 0.78071156,\n",
       "       0.76586354, 0.76537124, 0.72402563, 0.71887362, 0.70847576,\n",
       "       0.70393711, 0.65942282, 0.65743537, 0.61494697, 0.60864346,\n",
       "       0.5896569 , 0.58925354, 0.58156376, 0.57550386, 0.55308969,\n",
       "       0.54969563, 0.54744674, 0.54486186, 0.54095371, 0.52127948,\n",
       "       0.50615858, 0.49866892, 0.45200602, 0.38318654, 0.37879719,\n",
       "       0.35183098, 0.34586612, 0.24154122, 0.23640421, 0.2296341 ,\n",
       "       0.22896893, 0.20438001, 0.20348417, 0.12052718, 0.1203351 ,\n",
       "       0.10632697])"
      ]
     },
     "execution_count": 89,
     "metadata": {},
     "output_type": "execute_result"
    }
   ],
   "source": [
    "fpr, tpr, thresholds = roc_curve(y_test, df_final_mean)\n",
    "# Print the threshold values\n",
    "thresholds"
   ]
  },
  {
   "cell_type": "code",
   "execution_count": 94,
   "id": "56286d3d",
   "metadata": {},
   "outputs": [],
   "source": [
    "from sklearn.metrics import accuracy_score\n",
    "\n",
    "accuracy = []\n",
    "\n",
    "for thres in thresholds:\n",
    "    y_pred = np.where(df_final_mean > thres,1,0) # for all predictions made if its greater than 0.5 then covert to 1 else just convert into 0\n",
    "    accuracy.append(accuracy_score(y_test, y_pred, normalize = True)) #append the accuracy in the list\n"
   ]
  },
  {
   "cell_type": "code",
   "execution_count": 95,
   "id": "bb331b2c",
   "metadata": {},
   "outputs": [],
   "source": [
    "# Now making the list into the dataframe\n",
    "\n",
    "accuracy = pd.concat([pd.Series(thresholds), pd.Series(accuracy)], axis = 1)\n",
    "\n",
    "accuracy.columns = ['thresholds','accuracy']\n",
    "accuracy.sort_values(by = 'accuracy', ascending = False, inplace = True)"
   ]
  },
  {
   "cell_type": "code",
   "execution_count": 96,
   "id": "e64184f5",
   "metadata": {},
   "outputs": [
    {
     "data": {
      "text/html": [
       "<div>\n",
       "<style scoped>\n",
       "    .dataframe tbody tr th:only-of-type {\n",
       "        vertical-align: middle;\n",
       "    }\n",
       "\n",
       "    .dataframe tbody tr th {\n",
       "        vertical-align: top;\n",
       "    }\n",
       "\n",
       "    .dataframe thead th {\n",
       "        text-align: right;\n",
       "    }\n",
       "</style>\n",
       "<table border=\"1\" class=\"dataframe\">\n",
       "  <thead>\n",
       "    <tr style=\"text-align: right;\">\n",
       "      <th></th>\n",
       "      <th>thresholds</th>\n",
       "      <th>accuracy</th>\n",
       "    </tr>\n",
       "  </thead>\n",
       "  <tbody>\n",
       "    <tr>\n",
       "      <th>32</th>\n",
       "      <td>0.452006</td>\n",
       "      <td>0.961667</td>\n",
       "    </tr>\n",
       "    <tr>\n",
       "      <th>31</th>\n",
       "      <td>0.498669</td>\n",
       "      <td>0.958333</td>\n",
       "    </tr>\n",
       "    <tr>\n",
       "      <th>25</th>\n",
       "      <td>0.549696</td>\n",
       "      <td>0.958333</td>\n",
       "    </tr>\n",
       "    <tr>\n",
       "      <th>30</th>\n",
       "      <td>0.506159</td>\n",
       "      <td>0.956667</td>\n",
       "    </tr>\n",
       "    <tr>\n",
       "      <th>29</th>\n",
       "      <td>0.521279</td>\n",
       "      <td>0.956667</td>\n",
       "    </tr>\n",
       "    <tr>\n",
       "      <th>27</th>\n",
       "      <td>0.544862</td>\n",
       "      <td>0.956667</td>\n",
       "    </tr>\n",
       "    <tr>\n",
       "      <th>26</th>\n",
       "      <td>0.547447</td>\n",
       "      <td>0.956667</td>\n",
       "    </tr>\n",
       "    <tr>\n",
       "      <th>24</th>\n",
       "      <td>0.553090</td>\n",
       "      <td>0.956667</td>\n",
       "    </tr>\n",
       "    <tr>\n",
       "      <th>28</th>\n",
       "      <td>0.540954</td>\n",
       "      <td>0.955000</td>\n",
       "    </tr>\n",
       "    <tr>\n",
       "      <th>23</th>\n",
       "      <td>0.575504</td>\n",
       "      <td>0.951667</td>\n",
       "    </tr>\n",
       "    <tr>\n",
       "      <th>22</th>\n",
       "      <td>0.581564</td>\n",
       "      <td>0.950000</td>\n",
       "    </tr>\n",
       "    <tr>\n",
       "      <th>33</th>\n",
       "      <td>0.383187</td>\n",
       "      <td>0.948333</td>\n",
       "    </tr>\n",
       "    <tr>\n",
       "      <th>21</th>\n",
       "      <td>0.589254</td>\n",
       "      <td>0.948333</td>\n",
       "    </tr>\n",
       "    <tr>\n",
       "      <th>20</th>\n",
       "      <td>0.589657</td>\n",
       "      <td>0.946667</td>\n",
       "    </tr>\n",
       "    <tr>\n",
       "      <th>34</th>\n",
       "      <td>0.378797</td>\n",
       "      <td>0.946667</td>\n",
       "    </tr>\n",
       "    <tr>\n",
       "      <th>19</th>\n",
       "      <td>0.608643</td>\n",
       "      <td>0.945000</td>\n",
       "    </tr>\n",
       "    <tr>\n",
       "      <th>18</th>\n",
       "      <td>0.614947</td>\n",
       "      <td>0.943333</td>\n",
       "    </tr>\n",
       "    <tr>\n",
       "      <th>35</th>\n",
       "      <td>0.351831</td>\n",
       "      <td>0.938333</td>\n",
       "    </tr>\n",
       "    <tr>\n",
       "      <th>17</th>\n",
       "      <td>0.657435</td>\n",
       "      <td>0.936667</td>\n",
       "    </tr>\n",
       "    <tr>\n",
       "      <th>36</th>\n",
       "      <td>0.345866</td>\n",
       "      <td>0.936667</td>\n",
       "    </tr>\n",
       "    <tr>\n",
       "      <th>16</th>\n",
       "      <td>0.659423</td>\n",
       "      <td>0.935000</td>\n",
       "    </tr>\n",
       "    <tr>\n",
       "      <th>15</th>\n",
       "      <td>0.703937</td>\n",
       "      <td>0.918333</td>\n",
       "    </tr>\n",
       "    <tr>\n",
       "      <th>14</th>\n",
       "      <td>0.708476</td>\n",
       "      <td>0.916667</td>\n",
       "    </tr>\n",
       "    <tr>\n",
       "      <th>13</th>\n",
       "      <td>0.718874</td>\n",
       "      <td>0.911667</td>\n",
       "    </tr>\n",
       "    <tr>\n",
       "      <th>12</th>\n",
       "      <td>0.724026</td>\n",
       "      <td>0.910000</td>\n",
       "    </tr>\n",
       "    <tr>\n",
       "      <th>37</th>\n",
       "      <td>0.241541</td>\n",
       "      <td>0.878333</td>\n",
       "    </tr>\n",
       "    <tr>\n",
       "      <th>38</th>\n",
       "      <td>0.236404</td>\n",
       "      <td>0.876667</td>\n",
       "    </tr>\n",
       "    <tr>\n",
       "      <th>39</th>\n",
       "      <td>0.229634</td>\n",
       "      <td>0.871667</td>\n",
       "    </tr>\n",
       "    <tr>\n",
       "      <th>40</th>\n",
       "      <td>0.228969</td>\n",
       "      <td>0.870000</td>\n",
       "    </tr>\n",
       "    <tr>\n",
       "      <th>11</th>\n",
       "      <td>0.765371</td>\n",
       "      <td>0.856667</td>\n",
       "    </tr>\n",
       "    <tr>\n",
       "      <th>10</th>\n",
       "      <td>0.765864</td>\n",
       "      <td>0.855000</td>\n",
       "    </tr>\n",
       "    <tr>\n",
       "      <th>41</th>\n",
       "      <td>0.204380</td>\n",
       "      <td>0.845000</td>\n",
       "    </tr>\n",
       "    <tr>\n",
       "      <th>42</th>\n",
       "      <td>0.203484</td>\n",
       "      <td>0.843333</td>\n",
       "    </tr>\n",
       "    <tr>\n",
       "      <th>9</th>\n",
       "      <td>0.780712</td>\n",
       "      <td>0.831667</td>\n",
       "    </tr>\n",
       "    <tr>\n",
       "      <th>8</th>\n",
       "      <td>0.781405</td>\n",
       "      <td>0.830000</td>\n",
       "    </tr>\n",
       "    <tr>\n",
       "      <th>7</th>\n",
       "      <td>0.793056</td>\n",
       "      <td>0.815000</td>\n",
       "    </tr>\n",
       "    <tr>\n",
       "      <th>6</th>\n",
       "      <td>0.793807</td>\n",
       "      <td>0.813333</td>\n",
       "    </tr>\n",
       "    <tr>\n",
       "      <th>5</th>\n",
       "      <td>0.811628</td>\n",
       "      <td>0.790000</td>\n",
       "    </tr>\n",
       "    <tr>\n",
       "      <th>4</th>\n",
       "      <td>0.811989</td>\n",
       "      <td>0.788333</td>\n",
       "    </tr>\n",
       "    <tr>\n",
       "      <th>43</th>\n",
       "      <td>0.120527</td>\n",
       "      <td>0.626667</td>\n",
       "    </tr>\n",
       "    <tr>\n",
       "      <th>44</th>\n",
       "      <td>0.120335</td>\n",
       "      <td>0.625000</td>\n",
       "    </tr>\n",
       "    <tr>\n",
       "      <th>3</th>\n",
       "      <td>0.905775</td>\n",
       "      <td>0.508333</td>\n",
       "    </tr>\n",
       "    <tr>\n",
       "      <th>2</th>\n",
       "      <td>0.906567</td>\n",
       "      <td>0.506667</td>\n",
       "    </tr>\n",
       "    <tr>\n",
       "      <th>45</th>\n",
       "      <td>0.106327</td>\n",
       "      <td>0.501667</td>\n",
       "    </tr>\n",
       "    <tr>\n",
       "      <th>1</th>\n",
       "      <td>0.913441</td>\n",
       "      <td>0.500000</td>\n",
       "    </tr>\n",
       "    <tr>\n",
       "      <th>0</th>\n",
       "      <td>1.913441</td>\n",
       "      <td>0.500000</td>\n",
       "    </tr>\n",
       "  </tbody>\n",
       "</table>\n",
       "</div>"
      ],
      "text/plain": [
       "    thresholds  accuracy\n",
       "32    0.452006  0.961667\n",
       "31    0.498669  0.958333\n",
       "25    0.549696  0.958333\n",
       "30    0.506159  0.956667\n",
       "29    0.521279  0.956667\n",
       "27    0.544862  0.956667\n",
       "26    0.547447  0.956667\n",
       "24    0.553090  0.956667\n",
       "28    0.540954  0.955000\n",
       "23    0.575504  0.951667\n",
       "22    0.581564  0.950000\n",
       "33    0.383187  0.948333\n",
       "21    0.589254  0.948333\n",
       "20    0.589657  0.946667\n",
       "34    0.378797  0.946667\n",
       "19    0.608643  0.945000\n",
       "18    0.614947  0.943333\n",
       "35    0.351831  0.938333\n",
       "17    0.657435  0.936667\n",
       "36    0.345866  0.936667\n",
       "16    0.659423  0.935000\n",
       "15    0.703937  0.918333\n",
       "14    0.708476  0.916667\n",
       "13    0.718874  0.911667\n",
       "12    0.724026  0.910000\n",
       "37    0.241541  0.878333\n",
       "38    0.236404  0.876667\n",
       "39    0.229634  0.871667\n",
       "40    0.228969  0.870000\n",
       "11    0.765371  0.856667\n",
       "10    0.765864  0.855000\n",
       "41    0.204380  0.845000\n",
       "42    0.203484  0.843333\n",
       "9     0.780712  0.831667\n",
       "8     0.781405  0.830000\n",
       "7     0.793056  0.815000\n",
       "6     0.793807  0.813333\n",
       "5     0.811628  0.790000\n",
       "4     0.811989  0.788333\n",
       "43    0.120527  0.626667\n",
       "44    0.120335  0.625000\n",
       "3     0.905775  0.508333\n",
       "2     0.906567  0.506667\n",
       "45    0.106327  0.501667\n",
       "1     0.913441  0.500000\n",
       "0     1.913441  0.500000"
      ]
     },
     "execution_count": 96,
     "metadata": {},
     "output_type": "execute_result"
    }
   ],
   "source": [
    "accuracy #the threshold with highest accuracy is selected"
   ]
  },
  {
   "cell_type": "markdown",
   "id": "f74a22d7",
   "metadata": {},
   "source": [
    "## plotting the curve"
   ]
  },
  {
   "cell_type": "code",
   "execution_count": 97,
   "id": "b32bcdf2",
   "metadata": {},
   "outputs": [
    {
     "data": {
      "image/png": "[encoded data removed]",
      "text/plain": [
       "<Figure size 432x288 with 1 Axes>"
      ]
     },
     "metadata": {
      "needs_background": "light"
     },
     "output_type": "display_data"
    }
   ],
   "source": [
    "def plot_roc(fpr, tpr):\n",
    "    plt.plot(fpr, tpr, label = 'ROC')\n",
    "    plt.plot([0,1], [0,1], linestyle = '--')\n",
    "    plt.xlabel('FPR')\n",
    "    plt.ylabel('TPR')\n",
    " \n",
    "plot_roc(fpr,tpr)"
   ]
  }
 ],
 "metadata": {
  "kernelspec": {
   "display_name": "Python 3 (ipykernel)",
   "language": "python",
   "name": "python3"
  },
  "language_info": {
   "codemirror_mode": {
    "name": "ipython",
    "version": 3
   },
   "file_extension": ".py",
   "mimetype": "text/x-python",
   "name": "python",
   "nbconvert_exporter": "python",
   "pygments_lexer": "ipython3",
   "version": "3.9.12"
  }
 },
 "nbformat": 4,
 "nbformat_minor": 5
}
