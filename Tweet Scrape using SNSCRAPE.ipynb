{
 "cells": [
  {
   "cell_type": "code",
   "execution_count": 1,
   "id": "ba32230d",
   "metadata": {},
   "outputs": [],
   "source": [
    "\n",
    "      mnm\n",
    "    \n",
    "    \n",
    "    \n",
    "    \n",
    "    \n",
    "    \n",
    "    \n",
    "    \n",
    "    \n",
    "88import snscrape.modules.twitter as s ntwitter\n",
    "import pandas as pd"
   ]
  },
  {
   "cell_type": "code",
   "execution_count": 3,
   "id": "8b5ff3d5",
   "metadata": {},
   "outputs": [
    {
     "name": "stderr",
     "output_type": "stream",
     "text": [
      "C:\\Users\\maria\\AppData\\Local\\Temp\\ipykernel_8472\\2393777772.py:11: FutureWarning: content is deprecated, use rawContent instead\n",
      "  tweets.append([tweet.date, tweet.user.username, tweet.content])\n"
     ]
    },
    {
     "name": "stdout",
     "output_type": "stream",
     "text": [
      "                         Date      User  \\\n",
      "0   2021-12-31 02:23:58+00:00  elonmusk   \n",
      "1   2021-12-30 21:11:23+00:00  elonmusk   \n",
      "2   2021-12-30 20:47:53+00:00  elonmusk   \n",
      "3   2021-12-30 20:28:51+00:00  elonmusk   \n",
      "4   2021-12-30 18:23:14+00:00  elonmusk   \n",
      "..                        ...       ...   \n",
      "495 2021-11-15 00:39:36+00:00  elonmusk   \n",
      "496 2021-11-14 23:48:31+00:00  elonmusk   \n",
      "497 2021-11-14 21:35:40+00:00  elonmusk   \n",
      "498 2021-11-14 21:33:04+00:00  elonmusk   \n",
      "499 2021-11-14 15:24:02+00:00  elonmusk   \n",
      "\n",
      "                                                 Tweet  \n",
      "0                                     @TheBabylonBee 🤣  \n",
      "1                                    @roshanpateI 🤣 $7  \n",
      "2               @tesla_raj Many UI improvements coming  \n",
      "3    @CSmithson80 @heydave7 @BLKMDL3 @mims This cha...  \n",
      "4    @BLKMDL3 @mims Predicting macroeconomics is ch...  \n",
      "..                                                 ...  \n",
      "495                     @squawksquare @BernieSanders 👍  \n",
      "496                                 @ConsumerReports 👍  \n",
      "497                             @WholeMarsBlog Exactly  \n",
      "498                        @realTylerZed @SenSanders 🤣  \n",
      "499  @SenSanders Want me to sell more stock, Bernie...  \n",
      "\n",
      "[500 rows x 3 columns]\n"
     ]
    }
   ],
   "source": [
    "query = '(from:elonmusk) until:2022-01-01 since:2010-01-01'\n",
    "tweets = []\n",
    "limit = 500\n",
    "\n",
    "for tweet in sntwitter.TwitterSearchScraper(query).get_items():\n",
    "#     print(vars(tweet))\n",
    "#     break\n",
    "    if len(tweets) == limit:\n",
    "        break\n",
    "    else:\n",
    "        tweets.append([tweet.date, tweet.user.username, tweet.content])\n",
    "        \n",
    "df = pd.DataFrame(tweets, columns=['Date','User','Tweet'])\n",
    "\n",
    "print(df)"
   ]
  },
  {
   "cell_type": "code",
   "execution_count": null,
   "id": "f69c1c89",
   "metadata": {},
   "outputs": [],
   "source": []
  }
 ],
 "metadata": {
  "kernelspec": {
   "display_name": "Python 3 (ipykernel)",
   "language": "python",
   "name": "python3"
  },
  "language_info": {
   "codemirror_mode": {
    "name": "ipython",
    "version": 3
   },
   "file_extension": ".py",
   "mimetype": "text/x-python",
   "name": "python",
   "nbconvert_exporter": "python",
   "pygments_lexer": "ipython3",
   "version": "3.9.12"
  }
 },
 "nbformat": 4,
 "nbformat_minor": 5
}
